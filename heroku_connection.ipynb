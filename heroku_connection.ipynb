{
 "cells": [
  {
   "cell_type": "code",
   "execution_count": 1,
   "metadata": {},
   "outputs": [],
   "source": [
    "import psycopg2\n",
    "import keys\n",
    "import pandas as pd"
   ]
  },
  {
   "cell_type": "code",
   "execution_count": 20,
   "metadata": {},
   "outputs": [],
   "source": [
    "con = psycopg2.connect(\n",
    "            host = keys.keys['host'],\n",
    "            database = keys.keys['database'],\n",
    "            user = keys.keys['user'],\n",
    "            password = keys.keys['password'])\n",
    "\n",
    "#cursor \n",
    "cur = con.cursor()\n",
    "\n",
    "#execute query\n",
    "cur.execute('''CREATE TABLE accounts \n",
    "            (Name VARCHAR ( 50 ) UNIQUE NOT NULL, \n",
    "            Qualificaition VARCHAR ( 50 ) NOT NULL, \n",
    "            Sex VARCHAR ( 255 ) NOT NULL,\n",
    "            Age INT NOT NULL,\n",
    "            Origin  VARCHAR ( 50 ) NOT NULL )''')\n",
    "\n",
    "\n",
    "with open('C:\\projects\\heroku_db\\mates.csv', 'r') as acc:\n",
    "    next(acc) # This will skip the header\n",
    "    cur.copy_from(acc, 'accounts', sep=',')\n",
    "\n",
    "#commit the transcation \n",
    "con.commit()"
   ]
  },
  {
   "cell_type": "code",
   "execution_count": 25,
   "metadata": {},
   "outputs": [
    {
     "name": "stdout",
     "output_type": "stream",
     "text": [
      "('Sonu Kumar', 'BTech CSE', 'Male', 18, 'Nasriganj') \n",
      "\n",
      "('Ravi Pathak', 'BTech CSE', 'Male', 19, 'Chapra') \n",
      "\n",
      "('Sushant Pal', 'BTech CSE', 'Male', 20, 'Jaunpur') \n",
      "\n",
      "('Ashish Yadav', 'BTech CSE', 'Male', 19, 'Kanpur') \n",
      "\n",
      "('Sanchi Tripathi', 'B.Sc Botany', 'Female', 20, 'Baliya') \n",
      "\n",
      "('Tammanah Bhatia', 'MBBS', 'Female', 20, 'Patiala') \n",
      "\n",
      "('Ananya Singh', 'BA English', 'Female', 19, 'Ghaziabad') \n",
      "\n",
      "('Harshvardhan Pratap Singh', 'BTech CSE', 'Male', 21, 'Mahaua') \n",
      "\n",
      "('Samar Pratap Singh', 'BTech CSE', 'Male', 20, 'Birampur') \n",
      "\n",
      "('Sakshi Kumari', 'BCA', 'Female', 22, 'Bikramganj') \n",
      "\n"
     ]
    }
   ],
   "source": [
    "cur.execute('''SELECT * FROM accounts;''')\n",
    "ver = cur.fetchall()\n",
    "print('')\n",
    "for i in ver:\n",
    "    print(i,'\\n')"
   ]
  },
  {
   "cell_type": "code",
   "execution_count": null,
   "metadata": {},
   "outputs": [],
   "source": []
  }
 ],
 "metadata": {
  "kernelspec": {
   "display_name": "Python 3",
   "language": "python",
   "name": "python3"
  },
  "language_info": {
   "codemirror_mode": {
    "name": "ipython",
    "version": 3
   },
   "file_extension": ".py",
   "mimetype": "text/x-python",
   "name": "python",
   "nbconvert_exporter": "python",
   "pygments_lexer": "ipython3",
   "version": "3.8.3"
  }
 },
 "nbformat": 4,
 "nbformat_minor": 4
}
