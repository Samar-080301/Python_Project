{
  "nbformat": 4,
  "nbformat_minor": 0,
  "metadata": {
    "colab": {
      "name": "BSE_Project.ipynb",
      "provenance": [],
      "collapsed_sections": [],
      "authorship_tag": "ABX9TyN3ErzPlfNYL751WOgn2cE7",
      "include_colab_link": true
    },
    "kernelspec": {
      "name": "python3",
      "display_name": "Python 3"
    }
  },
  "cells": [
    {
      "cell_type": "markdown",
      "metadata": {
        "id": "view-in-github",
        "colab_type": "text"
      },
      "source": [
        "<a href=\"https://colab.research.google.com/github/Samar-080301/Python_Project/blob/master/BSE_Project.ipynb\" target=\"_parent\"><img src=\"https://colab.research.google.com/assets/colab-badge.svg\" alt=\"Open In Colab\"/></a>"
      ]
    },
    {
      "cell_type": "code",
      "metadata": {
        "id": "n_2KXCi44zls"
      },
      "source": [
        "import pandas as pd\r\n",
        "import numpy as np\r\n",
        "import matplotlib.pyplot as plt\r\n",
        "import requests\r\n",
        "from sklearn.preprocessing import MinMaxScaler\r\n",
        "from sklearn.preprocessing import minmax_scale\r\n",
        "from sklearn.preprocessing import MaxAbsScaler\r\n",
        "from sklearn.preprocessing import StandardScaler\r\n",
        "from sklearn.preprocessing import RobustScaler\r\n",
        "from sklearn.preprocessing import Normalizer\r\n",
        "from sklearn.preprocessing import QuantileTransformer\r\n",
        "import seaborn as sns\r\n",
        "sns.set(style=\"white\", color_codes=True)\r\n",
        "%matplotlib inline"
      ],
      "execution_count": 1,
      "outputs": []
    },
    {
      "cell_type": "code",
      "metadata": {
        "id": "p6LmXI8fPwlM"
      },
      "source": [
        " #ref https://www.kaggle.com/mikalaichaly/compare-different-scalers-on-data-with-outliers"
      ],
      "execution_count": 2,
      "outputs": []
    },
    {
      "cell_type": "code",
      "metadata": {
        "id": "WyG5R4ob43lz"
      },
      "source": [
        "def download_stock_data(stock):\r\n",
        "    url = \"https://query1.finance.yahoo.com/v7/finance/download/\"+stock+\".BO?period1=1577110559&period2=1608732959&interval=1d&events=history&includeAdjustedClose=true\"\r\n",
        "    r = requests.get(url)\r\n",
        "    open(stock+'.csv','wb').write(r.content)  "
      ],
      "execution_count": 3,
      "outputs": []
    },
    {
      "cell_type": "code",
      "metadata": {
        "id": "Sjzp6WIX47Bd"
      },
      "source": [
        "index = ['RELIANCE','INFY','HCLTECH','TCS','BAJAJ-AUTO',\r\n",
        "         'TITAN','LT','NESTLEIND','TECHM','ASIANPAINT',\r\n",
        "         'M&M','ICICIBANK','POWERGRID','HINDUNILVR','SUNPHARMA',\r\n",
        "         'TATASTEEL','AXISBANK','SBIN','ULTRACEMCO','BAJAJFINSV',\r\n",
        "        'ITC','NTPC','BAJFINANCE','BHARTIARTL','MARUTI',\r\n",
        "         'KOTAKBANK','HDFC','HDFCBANK','ONGC','INDUSINDBK']"
      ],
      "execution_count": 4,
      "outputs": []
    },
    {
      "cell_type": "code",
      "metadata": {
        "id": "0inij7wn5Aoe",
        "outputId": "426360e2-3cdb-43d9-b32f-908e19b20d3f",
        "colab": {
          "base_uri": "https://localhost:8080/"
        }
      },
      "source": [
        "a=1\r\n",
        "for i in index:\r\n",
        "    download_stock_data(i)\r\n",
        "    print(a)\r\n",
        "    a+=1"
      ],
      "execution_count": 5,
      "outputs": [
        {
          "output_type": "stream",
          "text": [
            "1\n",
            "2\n",
            "3\n",
            "4\n",
            "5\n",
            "6\n",
            "7\n",
            "8\n",
            "9\n",
            "10\n",
            "11\n",
            "12\n",
            "13\n",
            "14\n",
            "15\n",
            "16\n",
            "17\n",
            "18\n",
            "19\n",
            "20\n",
            "21\n",
            "22\n",
            "23\n",
            "24\n",
            "25\n",
            "26\n",
            "27\n",
            "28\n",
            "29\n",
            "30\n"
          ],
          "name": "stdout"
        }
      ]
    },
    {
      "cell_type": "code",
      "metadata": {
        "id": "VW1TrNh77Thw"
      },
      "source": [
        "a = pd.read_csv(r'/content/ASIANPAINT.csv',date_parser='Date')"
      ],
      "execution_count": 6,
      "outputs": []
    },
    {
      "cell_type": "code",
      "metadata": {
        "id": "1Eothora8IB3"
      },
      "source": [
        "ac = a['Close']"
      ],
      "execution_count": 7,
      "outputs": []
    },
    {
      "cell_type": "code",
      "metadata": {
        "id": "Du47VOCc7uNY",
        "outputId": "e2245870-a09e-414e-8f6d-c9d35a5d9138",
        "colab": {
          "base_uri": "https://localhost:8080/"
        }
      },
      "source": [
        "ac = np.array(ac)\r\n",
        "print(ac)"
      ],
      "execution_count": 8,
      "outputs": [
        {
          "output_type": "stream",
          "text": [
            "[1807.449951 1803.400024 1810.099976 1812.949951 1802.400024 1786.849976\n",
            " 1793.75     1790.25     1751.650024 1707.5      1723.900024 1730.849976\n",
            " 1773.       1791.050049 1805.25     1818.550049 1841.75     1834.949951\n",
            " 1831.199951 1848.599976 1810.25     1778.300049 1775.300049 1786.099976\n",
            " 1787.050049 1778.699951 1796.5      1805.400024 1795.25     1867.400024\n",
            " 1890.849976 1872.300049 1861.       1857.550049 1870.349976 1877.150024\n",
            " 1892.050049 1874.050049 1877.199951 1881.349976 1863.300049 1886.25\n",
            " 1842.849976 1818.75     1825.25     1826.550049 1844.349976 1798.199951\n",
            " 1788.550049 1801.650024 1849.849976 1875.449951 1878.5      1878.5\n",
            " 1882.650024 1842.849976 1797.599976 1682.949951 1734.199951 1616.650024\n",
            " 1603.       1745.849976 1498.75     1525.25     1594.050049 1629.699951\n",
            " 1606.199951 1597.150024 1666.699951 1603.900024 1521.300049 1624.050049\n",
            " 1609.599976 1652.449951 1679.349976 1718.400024 1742.349976 1754.599976\n",
            " 1731.650024 1725.599976 1812.650024 1820.400024 1827.400024 1852.300049\n",
            " 1824.199951 1768.       1760.050049 1676.199951 1618.550049 1610.599976\n",
            " 1593.949951 1577.900024 1569.25     1523.199951 1562.900024 1522.150024\n",
            " 1553.75     1501.150024 1505.75     1500.449951 1575.       1617.849976\n",
            " 1630.5      1619.75     1643.75     1684.400024 1693.5      1709.849976\n",
            " 1716.300049 1633.       1638.400024 1634.449951 1641.550049 1636.199951\n",
            " 1609.550049 1637.949951 1618.050049 1621.050049 1596.099976 1598.900024\n",
            " 1622.25     1653.449951 1683.650024 1746.400024 1688.849976 1687.349976\n",
            " 1691.949951 1687.349976 1688.099976 1686.699951 1696.099976 1708.349976\n",
            " 1745.449951 1686.599976 1716.800049 1703.050049 1705.650024 1688.449951\n",
            " 1671.300049 1692.650024 1717.949951 1751.949951 1723.599976 1697.449951\n",
            " 1727.400024 1710.949951 1777.75     1759.599976 1737.449951 1743.099976\n",
            " 1716.650024 1704.949951 1714.300049 1717.150024 1728.25     1805.050049\n",
            " 1782.449951 1789.550049 1796.75     1802.150024 1801.599976 1835.849976\n",
            " 1873.599976 1885.699951 1875.25     1958.349976 1963.25     2001.\n",
            " 1971.050049 1982.       1957.699951 1903.400024 1978.199951 1946.\n",
            " 1978.449951 1956.       1981.949951 1958.150024 1978.800049 2062.899902\n",
            " 2035.199951 2031.550049 2016.949951 2014.550049 2008.400024 2028.800049\n",
            " 1972.699951 1935.800049 1946.5      1919.199951 1924.400024 1946.099976\n",
            " 1959.849976 1987.550049 2040.949951 2027.099976 2090.600098 2103.949951\n",
            " 2090.600098 2050.399902 2076.899902 2064.75     2071.300049 2089.399902\n",
            " 2061.75     2070.600098 2119.300049 2114.350098 2100.25     2119.399902\n",
            " 2080.699951 2198.149902 2159.199951 2224.800049 2213.050049 2172.050049\n",
            " 2154.949951 2169.25     2238.449951 2208.449951 2224.949951 2199.649902\n",
            " 2181.899902 2171.699951 2179.550049         nan 2186.949951 2196.\n",
            " 2161.25     2163.850098 2189.399902 2207.600098 2154.300049 2156.\n",
            " 2217.350098 2229.699951 2316.300049 2410.850098 2438.75     2473.100098\n",
            " 2438.850098 2521.149902 2529.199951 2520.199951 2549.399902 2527.149902\n",
            " 2581.899902 2574.       2601.550049 2554.699951 2604.649902 2642.75    ]\n"
          ],
          "name": "stdout"
        }
      ]
    },
    {
      "cell_type": "code",
      "metadata": {
        "id": "aihKSraA7iVD",
        "outputId": "3c8a11aa-f0dd-4630-9b2e-d67dc20ec130",
        "colab": {
          "base_uri": "https://localhost:8080/"
        }
      },
      "source": [
        "print(a[220:230])"
      ],
      "execution_count": 9,
      "outputs": [
        {
          "output_type": "stream",
          "text": [
            "           Date         Open         High  ...        Close    Adj Close    Volume\n",
            "220  2020-11-09  2249.600098  2249.600098  ...  2224.949951  2224.949951   59095.0\n",
            "221  2020-11-10  2227.000000  2238.550049  ...  2199.649902  2199.649902   57767.0\n",
            "222  2020-11-11  2200.000000  2223.600098  ...  2181.899902  2181.899902   63840.0\n",
            "223  2020-11-12  2172.000000  2200.550049  ...  2171.699951  2171.699951   46553.0\n",
            "224  2020-11-13  2189.600098  2205.399902  ...  2179.550049  2179.550049  160362.0\n",
            "225  2020-11-14          NaN          NaN  ...          NaN          NaN       NaN\n",
            "226  2020-11-17  2189.000000  2222.699951  ...  2186.949951  2186.949951   29882.0\n",
            "227  2020-11-18  2188.000000  2210.000000  ...  2196.000000  2196.000000   53482.0\n",
            "228  2020-11-19  2183.000000  2194.600098  ...  2161.250000  2161.250000   41850.0\n",
            "229  2020-11-20  2165.000000  2190.000000  ...  2163.850098  2163.850098   73781.0\n",
            "\n",
            "[10 rows x 7 columns]\n"
          ],
          "name": "stdout"
        }
      ]
    },
    {
      "cell_type": "code",
      "metadata": {
        "id": "B5CH0gRaL-_-"
      },
      "source": [
        "def remove_nan(ac):\r\n",
        "    array1 = np.array(ac)\r\n",
        "    nan_array = np.isnan(array1)\r\n",
        "    not_nan_array = ~ nan_array\r\n",
        "    ac = array1[not_nan_array]\r\n",
        "    return ac"
      ],
      "execution_count": 10,
      "outputs": []
    },
    {
      "cell_type": "code",
      "metadata": {
        "id": "XpkyEyWWM4iy",
        "outputId": "f8ef2bf5-4b33-45ea-d9d2-e6ae0e37a6ec",
        "colab": {
          "base_uri": "https://localhost:8080/"
        }
      },
      "source": [
        "ac = remove_nan(ac)\r\n",
        "print(ac)"
      ],
      "execution_count": 11,
      "outputs": [
        {
          "output_type": "stream",
          "text": [
            "[1807.449951 1803.400024 1810.099976 1812.949951 1802.400024 1786.849976\n",
            " 1793.75     1790.25     1751.650024 1707.5      1723.900024 1730.849976\n",
            " 1773.       1791.050049 1805.25     1818.550049 1841.75     1834.949951\n",
            " 1831.199951 1848.599976 1810.25     1778.300049 1775.300049 1786.099976\n",
            " 1787.050049 1778.699951 1796.5      1805.400024 1795.25     1867.400024\n",
            " 1890.849976 1872.300049 1861.       1857.550049 1870.349976 1877.150024\n",
            " 1892.050049 1874.050049 1877.199951 1881.349976 1863.300049 1886.25\n",
            " 1842.849976 1818.75     1825.25     1826.550049 1844.349976 1798.199951\n",
            " 1788.550049 1801.650024 1849.849976 1875.449951 1878.5      1878.5\n",
            " 1882.650024 1842.849976 1797.599976 1682.949951 1734.199951 1616.650024\n",
            " 1603.       1745.849976 1498.75     1525.25     1594.050049 1629.699951\n",
            " 1606.199951 1597.150024 1666.699951 1603.900024 1521.300049 1624.050049\n",
            " 1609.599976 1652.449951 1679.349976 1718.400024 1742.349976 1754.599976\n",
            " 1731.650024 1725.599976 1812.650024 1820.400024 1827.400024 1852.300049\n",
            " 1824.199951 1768.       1760.050049 1676.199951 1618.550049 1610.599976\n",
            " 1593.949951 1577.900024 1569.25     1523.199951 1562.900024 1522.150024\n",
            " 1553.75     1501.150024 1505.75     1500.449951 1575.       1617.849976\n",
            " 1630.5      1619.75     1643.75     1684.400024 1693.5      1709.849976\n",
            " 1716.300049 1633.       1638.400024 1634.449951 1641.550049 1636.199951\n",
            " 1609.550049 1637.949951 1618.050049 1621.050049 1596.099976 1598.900024\n",
            " 1622.25     1653.449951 1683.650024 1746.400024 1688.849976 1687.349976\n",
            " 1691.949951 1687.349976 1688.099976 1686.699951 1696.099976 1708.349976\n",
            " 1745.449951 1686.599976 1716.800049 1703.050049 1705.650024 1688.449951\n",
            " 1671.300049 1692.650024 1717.949951 1751.949951 1723.599976 1697.449951\n",
            " 1727.400024 1710.949951 1777.75     1759.599976 1737.449951 1743.099976\n",
            " 1716.650024 1704.949951 1714.300049 1717.150024 1728.25     1805.050049\n",
            " 1782.449951 1789.550049 1796.75     1802.150024 1801.599976 1835.849976\n",
            " 1873.599976 1885.699951 1875.25     1958.349976 1963.25     2001.\n",
            " 1971.050049 1982.       1957.699951 1903.400024 1978.199951 1946.\n",
            " 1978.449951 1956.       1981.949951 1958.150024 1978.800049 2062.899902\n",
            " 2035.199951 2031.550049 2016.949951 2014.550049 2008.400024 2028.800049\n",
            " 1972.699951 1935.800049 1946.5      1919.199951 1924.400024 1946.099976\n",
            " 1959.849976 1987.550049 2040.949951 2027.099976 2090.600098 2103.949951\n",
            " 2090.600098 2050.399902 2076.899902 2064.75     2071.300049 2089.399902\n",
            " 2061.75     2070.600098 2119.300049 2114.350098 2100.25     2119.399902\n",
            " 2080.699951 2198.149902 2159.199951 2224.800049 2213.050049 2172.050049\n",
            " 2154.949951 2169.25     2238.449951 2208.449951 2224.949951 2199.649902\n",
            " 2181.899902 2171.699951 2179.550049 2186.949951 2196.       2161.25\n",
            " 2163.850098 2189.399902 2207.600098 2154.300049 2156.       2217.350098\n",
            " 2229.699951 2316.300049 2410.850098 2438.75     2473.100098 2438.850098\n",
            " 2521.149902 2529.199951 2520.199951 2549.399902 2527.149902 2581.899902\n",
            " 2574.       2601.550049 2554.699951 2604.649902 2642.75    ]\n"
          ],
          "name": "stdout"
        }
      ]
    },
    {
      "cell_type": "code",
      "metadata": {
        "id": "4BsE6Bt-O-LN",
        "outputId": "542324c8-1d90-49f3-b1f0-cf99d436b401",
        "colab": {
          "base_uri": "https://localhost:8080/"
        }
      },
      "source": [
        "col = ac.reshape(-1, 1)\r\n",
        "print(col)"
      ],
      "execution_count": 12,
      "outputs": [
        {
          "output_type": "stream",
          "text": [
            "[[1807.449951]\n",
            " [1803.400024]\n",
            " [1810.099976]\n",
            " [1812.949951]\n",
            " [1802.400024]\n",
            " [1786.849976]\n",
            " [1793.75    ]\n",
            " [1790.25    ]\n",
            " [1751.650024]\n",
            " [1707.5     ]\n",
            " [1723.900024]\n",
            " [1730.849976]\n",
            " [1773.      ]\n",
            " [1791.050049]\n",
            " [1805.25    ]\n",
            " [1818.550049]\n",
            " [1841.75    ]\n",
            " [1834.949951]\n",
            " [1831.199951]\n",
            " [1848.599976]\n",
            " [1810.25    ]\n",
            " [1778.300049]\n",
            " [1775.300049]\n",
            " [1786.099976]\n",
            " [1787.050049]\n",
            " [1778.699951]\n",
            " [1796.5     ]\n",
            " [1805.400024]\n",
            " [1795.25    ]\n",
            " [1867.400024]\n",
            " [1890.849976]\n",
            " [1872.300049]\n",
            " [1861.      ]\n",
            " [1857.550049]\n",
            " [1870.349976]\n",
            " [1877.150024]\n",
            " [1892.050049]\n",
            " [1874.050049]\n",
            " [1877.199951]\n",
            " [1881.349976]\n",
            " [1863.300049]\n",
            " [1886.25    ]\n",
            " [1842.849976]\n",
            " [1818.75    ]\n",
            " [1825.25    ]\n",
            " [1826.550049]\n",
            " [1844.349976]\n",
            " [1798.199951]\n",
            " [1788.550049]\n",
            " [1801.650024]\n",
            " [1849.849976]\n",
            " [1875.449951]\n",
            " [1878.5     ]\n",
            " [1878.5     ]\n",
            " [1882.650024]\n",
            " [1842.849976]\n",
            " [1797.599976]\n",
            " [1682.949951]\n",
            " [1734.199951]\n",
            " [1616.650024]\n",
            " [1603.      ]\n",
            " [1745.849976]\n",
            " [1498.75    ]\n",
            " [1525.25    ]\n",
            " [1594.050049]\n",
            " [1629.699951]\n",
            " [1606.199951]\n",
            " [1597.150024]\n",
            " [1666.699951]\n",
            " [1603.900024]\n",
            " [1521.300049]\n",
            " [1624.050049]\n",
            " [1609.599976]\n",
            " [1652.449951]\n",
            " [1679.349976]\n",
            " [1718.400024]\n",
            " [1742.349976]\n",
            " [1754.599976]\n",
            " [1731.650024]\n",
            " [1725.599976]\n",
            " [1812.650024]\n",
            " [1820.400024]\n",
            " [1827.400024]\n",
            " [1852.300049]\n",
            " [1824.199951]\n",
            " [1768.      ]\n",
            " [1760.050049]\n",
            " [1676.199951]\n",
            " [1618.550049]\n",
            " [1610.599976]\n",
            " [1593.949951]\n",
            " [1577.900024]\n",
            " [1569.25    ]\n",
            " [1523.199951]\n",
            " [1562.900024]\n",
            " [1522.150024]\n",
            " [1553.75    ]\n",
            " [1501.150024]\n",
            " [1505.75    ]\n",
            " [1500.449951]\n",
            " [1575.      ]\n",
            " [1617.849976]\n",
            " [1630.5     ]\n",
            " [1619.75    ]\n",
            " [1643.75    ]\n",
            " [1684.400024]\n",
            " [1693.5     ]\n",
            " [1709.849976]\n",
            " [1716.300049]\n",
            " [1633.      ]\n",
            " [1638.400024]\n",
            " [1634.449951]\n",
            " [1641.550049]\n",
            " [1636.199951]\n",
            " [1609.550049]\n",
            " [1637.949951]\n",
            " [1618.050049]\n",
            " [1621.050049]\n",
            " [1596.099976]\n",
            " [1598.900024]\n",
            " [1622.25    ]\n",
            " [1653.449951]\n",
            " [1683.650024]\n",
            " [1746.400024]\n",
            " [1688.849976]\n",
            " [1687.349976]\n",
            " [1691.949951]\n",
            " [1687.349976]\n",
            " [1688.099976]\n",
            " [1686.699951]\n",
            " [1696.099976]\n",
            " [1708.349976]\n",
            " [1745.449951]\n",
            " [1686.599976]\n",
            " [1716.800049]\n",
            " [1703.050049]\n",
            " [1705.650024]\n",
            " [1688.449951]\n",
            " [1671.300049]\n",
            " [1692.650024]\n",
            " [1717.949951]\n",
            " [1751.949951]\n",
            " [1723.599976]\n",
            " [1697.449951]\n",
            " [1727.400024]\n",
            " [1710.949951]\n",
            " [1777.75    ]\n",
            " [1759.599976]\n",
            " [1737.449951]\n",
            " [1743.099976]\n",
            " [1716.650024]\n",
            " [1704.949951]\n",
            " [1714.300049]\n",
            " [1717.150024]\n",
            " [1728.25    ]\n",
            " [1805.050049]\n",
            " [1782.449951]\n",
            " [1789.550049]\n",
            " [1796.75    ]\n",
            " [1802.150024]\n",
            " [1801.599976]\n",
            " [1835.849976]\n",
            " [1873.599976]\n",
            " [1885.699951]\n",
            " [1875.25    ]\n",
            " [1958.349976]\n",
            " [1963.25    ]\n",
            " [2001.      ]\n",
            " [1971.050049]\n",
            " [1982.      ]\n",
            " [1957.699951]\n",
            " [1903.400024]\n",
            " [1978.199951]\n",
            " [1946.      ]\n",
            " [1978.449951]\n",
            " [1956.      ]\n",
            " [1981.949951]\n",
            " [1958.150024]\n",
            " [1978.800049]\n",
            " [2062.899902]\n",
            " [2035.199951]\n",
            " [2031.550049]\n",
            " [2016.949951]\n",
            " [2014.550049]\n",
            " [2008.400024]\n",
            " [2028.800049]\n",
            " [1972.699951]\n",
            " [1935.800049]\n",
            " [1946.5     ]\n",
            " [1919.199951]\n",
            " [1924.400024]\n",
            " [1946.099976]\n",
            " [1959.849976]\n",
            " [1987.550049]\n",
            " [2040.949951]\n",
            " [2027.099976]\n",
            " [2090.600098]\n",
            " [2103.949951]\n",
            " [2090.600098]\n",
            " [2050.399902]\n",
            " [2076.899902]\n",
            " [2064.75    ]\n",
            " [2071.300049]\n",
            " [2089.399902]\n",
            " [2061.75    ]\n",
            " [2070.600098]\n",
            " [2119.300049]\n",
            " [2114.350098]\n",
            " [2100.25    ]\n",
            " [2119.399902]\n",
            " [2080.699951]\n",
            " [2198.149902]\n",
            " [2159.199951]\n",
            " [2224.800049]\n",
            " [2213.050049]\n",
            " [2172.050049]\n",
            " [2154.949951]\n",
            " [2169.25    ]\n",
            " [2238.449951]\n",
            " [2208.449951]\n",
            " [2224.949951]\n",
            " [2199.649902]\n",
            " [2181.899902]\n",
            " [2171.699951]\n",
            " [2179.550049]\n",
            " [2186.949951]\n",
            " [2196.      ]\n",
            " [2161.25    ]\n",
            " [2163.850098]\n",
            " [2189.399902]\n",
            " [2207.600098]\n",
            " [2154.300049]\n",
            " [2156.      ]\n",
            " [2217.350098]\n",
            " [2229.699951]\n",
            " [2316.300049]\n",
            " [2410.850098]\n",
            " [2438.75    ]\n",
            " [2473.100098]\n",
            " [2438.850098]\n",
            " [2521.149902]\n",
            " [2529.199951]\n",
            " [2520.199951]\n",
            " [2549.399902]\n",
            " [2527.149902]\n",
            " [2581.899902]\n",
            " [2574.      ]\n",
            " [2601.550049]\n",
            " [2554.699951]\n",
            " [2604.649902]\n",
            " [2642.75    ]]\n"
          ],
          "name": "stdout"
        }
      ]
    },
    {
      "cell_type": "code",
      "metadata": {
        "colab": {
          "base_uri": "https://localhost:8080/",
          "height": 299
        },
        "id": "9qixNL0dNhIj",
        "outputId": "2f0493fe-f81c-411f-a70c-6091454e30f3"
      },
      "source": [
        "df = pd.DataFrame(ac)\r\n",
        "scalers = [\r\n",
        "    #('Unscaled data', X),\r\n",
        "    ('Standard Scaling', StandardScaler()),\r\n",
        "    ('Min-Max Scaling', MinMaxScaler()),\r\n",
        "    ('Max-abs Sscaling', MaxAbsScaler()),\r\n",
        "    ('Robust Scaling', RobustScaler(quantile_range=(25, 75))),\r\n",
        "    ('Quantile Transformation (uniform pdf)', QuantileTransformer(output_distribution='uniform')),\r\n",
        "    ('Quantile Transformation (gaussian pdf)', QuantileTransformer(output_distribution='normal')),\r\n",
        "    ('Sample-Wise L2 Normalizing', Normalizer())\r\n",
        "]\r\n",
        "\r\n",
        "for scaler in scalers:\r\n",
        "    df[scaler[0]] = scaler[1].fit_transform(col)\r\n",
        "df.rename(columns={0: \"Close\"},inplace = True)    \r\n",
        "df.head()    "
      ],
      "execution_count": 13,
      "outputs": [
        {
          "output_type": "stream",
          "text": [
            "/usr/local/lib/python3.6/dist-packages/sklearn/preprocessing/_data.py:2357: UserWarning: n_quantiles (1000) is greater than the total number of samples (251). n_quantiles is set to n_samples.\n",
            "  % (self.n_quantiles, n_samples))\n",
            "/usr/local/lib/python3.6/dist-packages/sklearn/preprocessing/_data.py:2357: UserWarning: n_quantiles (1000) is greater than the total number of samples (251). n_quantiles is set to n_samples.\n",
            "  % (self.n_quantiles, n_samples))\n"
          ],
          "name": "stderr"
        },
        {
          "output_type": "execute_result",
          "data": {
            "text/html": [
              "<div>\n",
              "<style scoped>\n",
              "    .dataframe tbody tr th:only-of-type {\n",
              "        vertical-align: middle;\n",
              "    }\n",
              "\n",
              "    .dataframe tbody tr th {\n",
              "        vertical-align: top;\n",
              "    }\n",
              "\n",
              "    .dataframe thead th {\n",
              "        text-align: right;\n",
              "    }\n",
              "</style>\n",
              "<table border=\"1\" class=\"dataframe\">\n",
              "  <thead>\n",
              "    <tr style=\"text-align: right;\">\n",
              "      <th></th>\n",
              "      <th>Close</th>\n",
              "      <th>Standard Scaling</th>\n",
              "      <th>Min-Max Scaling</th>\n",
              "      <th>Max-abs Sscaling</th>\n",
              "      <th>Robust Scaling</th>\n",
              "      <th>Quantile Transformation (uniform pdf)</th>\n",
              "      <th>Quantile Transformation (gaussian pdf)</th>\n",
              "      <th>Sample-Wise L2 Normalizing</th>\n",
              "    </tr>\n",
              "  </thead>\n",
              "  <tbody>\n",
              "    <tr>\n",
              "      <th>0</th>\n",
              "      <td>1807.449951</td>\n",
              "      <td>-0.280326</td>\n",
              "      <td>0.269843</td>\n",
              "      <td>0.683928</td>\n",
              "      <td>-0.009107</td>\n",
              "      <td>0.492</td>\n",
              "      <td>-0.020054</td>\n",
              "      <td>1.0</td>\n",
              "    </tr>\n",
              "    <tr>\n",
              "      <th>1</th>\n",
              "      <td>1803.400024</td>\n",
              "      <td>-0.296723</td>\n",
              "      <td>0.266302</td>\n",
              "      <td>0.682395</td>\n",
              "      <td>-0.022278</td>\n",
              "      <td>0.476</td>\n",
              "      <td>-0.060195</td>\n",
              "      <td>1.0</td>\n",
              "    </tr>\n",
              "    <tr>\n",
              "      <th>2</th>\n",
              "      <td>1810.099976</td>\n",
              "      <td>-0.269596</td>\n",
              "      <td>0.272159</td>\n",
              "      <td>0.684930</td>\n",
              "      <td>-0.000488</td>\n",
              "      <td>0.496</td>\n",
              "      <td>-0.010027</td>\n",
              "      <td>1.0</td>\n",
              "    </tr>\n",
              "    <tr>\n",
              "      <th>3</th>\n",
              "      <td>1812.949951</td>\n",
              "      <td>-0.258057</td>\n",
              "      <td>0.274650</td>\n",
              "      <td>0.686009</td>\n",
              "      <td>0.008781</td>\n",
              "      <td>0.508</td>\n",
              "      <td>0.020054</td>\n",
              "      <td>1.0</td>\n",
              "    </tr>\n",
              "    <tr>\n",
              "      <th>4</th>\n",
              "      <td>1802.400024</td>\n",
              "      <td>-0.300772</td>\n",
              "      <td>0.265428</td>\n",
              "      <td>0.682017</td>\n",
              "      <td>-0.025530</td>\n",
              "      <td>0.472</td>\n",
              "      <td>-0.070243</td>\n",
              "      <td>1.0</td>\n",
              "    </tr>\n",
              "  </tbody>\n",
              "</table>\n",
              "</div>"
            ],
            "text/plain": [
              "         Close  ...  Sample-Wise L2 Normalizing\n",
              "0  1807.449951  ...                         1.0\n",
              "1  1803.400024  ...                         1.0\n",
              "2  1810.099976  ...                         1.0\n",
              "3  1812.949951  ...                         1.0\n",
              "4  1802.400024  ...                         1.0\n",
              "\n",
              "[5 rows x 8 columns]"
            ]
          },
          "metadata": {
            "tags": []
          },
          "execution_count": 13
        }
      ]
    },
    {
      "cell_type": "code",
      "metadata": {
        "id": "CuylxvkBygzA",
        "outputId": "398139c5-58d1-42f9-9cdd-45163a59eedc",
        "colab": {
          "base_uri": "https://localhost:8080/",
          "height": 495
        }
      },
      "source": [
        "sns.heatmap(df.corr(), annot = True)"
      ],
      "execution_count": 14,
      "outputs": [
        {
          "output_type": "execute_result",
          "data": {
            "text/plain": [
              "<matplotlib.axes._subplots.AxesSubplot at 0x7f9e4645acf8>"
            ]
          },
          "metadata": {
            "tags": []
          },
          "execution_count": 14
        },
        {
          "output_type": "display_data",
          "data": {
            "image/png": "[encoded data removed]",
            "text/plain": [
              "<Figure size 432x288 with 2 Axes>"
            ]
          },
          "metadata": {
            "tags": [],
            "needs_background": "light"
          }
        }
      ]
    },
    {
      "cell_type": "code",
      "metadata": {
        "id": "QKAT9h0oz8Hj",
        "outputId": "899e414d-f034-45d6-c4a9-0dc59615c8fb",
        "colab": {
          "base_uri": "https://localhost:8080/"
        }
      },
      "source": [
        "df['Sample-Wise L2 Normalizing'].unique()"
      ],
      "execution_count": 15,
      "outputs": [
        {
          "output_type": "execute_result",
          "data": {
            "text/plain": [
              "array([1.])"
            ]
          },
          "metadata": {
            "tags": []
          },
          "execution_count": 15
        }
      ]
    },
    {
      "cell_type": "code",
      "metadata": {
        "id": "in8fQZrszWyE"
      },
      "source": [
        "s = np.array(df['Standard Scaling'])\r\n",
        "mm = np.array(df['Min-Max Scaling'])\r\n",
        "ma = np.array(df['Max-abs Sscaling'])\r\n",
        "r = np.array(df['Robust Scaling'])\r\n",
        "q = np.array(df['Quantile Transformation (uniform pdf)'])\r\n",
        "g = np.array(df['Quantile Transformation (gaussian pdf)'])"
      ],
      "execution_count": 16,
      "outputs": []
    },
    {
      "cell_type": "code",
      "metadata": {
        "id": "eUhKsTCp0XLu"
      },
      "source": [
        "def pn(i):\r\n",
        "    s = np.array(df[i])\r\n",
        "    print(s[0],' to ',s[len(s)-1])\r\n"
      ],
      "execution_count": 17,
      "outputs": []
    },
    {
      "cell_type": "code",
      "metadata": {
        "id": "3MkAx30U0Aqr",
        "colab": {
          "base_uri": "https://localhost:8080/"
        },
        "outputId": "3179a87d-9512-4be6-eec8-fdd24e6c30c5"
      },
      "source": [
        "for i in df.columns:\r\n",
        "    print(i,'\\t')\r\n",
        "    pn(i)\r\n",
        "    print('\\n')"
      ],
      "execution_count": 18,
      "outputs": [
        {
          "output_type": "stream",
          "text": [
            "Close \t\n",
            "1807.449951  to  2642.75\n",
            "\n",
            "\n",
            "Standard Scaling \t\n",
            "-0.28032561485101265  to  3.101677009060396\n",
            "\n",
            "\n",
            "Min-Max Scaling \t\n",
            "0.26984261451048974  to  1.0\n",
            "\n",
            "\n",
            "Max-abs Sscaling \t\n",
            "0.683927708258443  to  1.0\n",
            "\n",
            "\n",
            "Robust Scaling \t\n",
            "-0.009106589698705328  to  2.707536876737634\n",
            "\n",
            "\n",
            "Quantile Transformation (uniform pdf) \t\n",
            "0.492  to  1.0\n",
            "\n",
            "\n",
            "Quantile Transformation (gaussian pdf) \t\n",
            "-0.020054370352950636  to  5.19933758270342\n",
            "\n",
            "\n",
            "Sample-Wise L2 Normalizing \t\n",
            "1.0  to  1.0\n",
            "\n",
            "\n"
          ],
          "name": "stdout"
        }
      ]
    },
    {
      "cell_type": "code",
      "metadata": {
        "id": "R1zdHjil-FXr",
        "outputId": "3af19839-4ee8-4b1b-a845-996923c6e22a",
        "colab": {
          "base_uri": "https://localhost:8080/",
          "height": 314
        }
      },
      "source": [
        "fig, (ax1, ax2, ax3, ax4, ax5, ax6) = plt.subplots(6)\r\n",
        "fig.suptitle('Correlations')\r\n",
        "ax1.plot(df['Close'], df['Standard Scaling'])\r\n",
        "ax2.plot(df['Close'], df['Min-Max Scaling'])\r\n",
        "ax3.plot(df['Close'], df['Max-abs Sscaling'])\r\n",
        "ax4.plot(df['Close'], df['Robust Scaling'])\r\n",
        "ax5.plot(df['Close'], df['Quantile Transformation (uniform pdf)'])\r\n",
        "ax6.plot(df['Close'], df['Quantile Transformation (gaussian pdf)'])"
      ],
      "execution_count": 19,
      "outputs": [
        {
          "output_type": "execute_result",
          "data": {
            "text/plain": [
              "[<matplotlib.lines.Line2D at 0x7f9e328bac18>]"
            ]
          },
          "metadata": {
            "tags": []
          },
          "execution_count": 19
        },
        {
          "output_type": "display_data",
          "data": {
            "image/png": "[encoded data removed]",
            "text/plain": [
              "<Figure size 432x288 with 6 Axes>"
            ]
          },
          "metadata": {
            "tags": [],
            "needs_background": "light"
          }
        }
      ]
    },
    {
      "cell_type": "code",
      "metadata": {
        "id": "uLAdIVoyApsB",
        "outputId": "a32115b3-4e01-438a-e784-0ec6224ce356",
        "colab": {
          "base_uri": "https://localhost:8080/",
          "height": 285
        }
      },
      "source": [
        "plt.plot(df['Close'], df['Standard Scaling'])"
      ],
      "execution_count": 20,
      "outputs": [
        {
          "output_type": "execute_result",
          "data": {
            "text/plain": [
              "[<matplotlib.lines.Line2D at 0x7f9e327669b0>]"
            ]
          },
          "metadata": {
            "tags": []
          },
          "execution_count": 20
        },
        {
          "output_type": "display_data",
          "data": {
            "image/png": "[encoded data removed]",
            "text/plain": [
              "<Figure size 432x288 with 1 Axes>"
            ]
          },
          "metadata": {
            "tags": [],
            "needs_background": "light"
          }
        }
      ]
    },
    {
      "cell_type": "code",
      "metadata": {
        "id": "najMyFpXAxfw",
        "outputId": "ba0e75f1-2ff1-464f-c04b-c9e59e48b774",
        "colab": {
          "base_uri": "https://localhost:8080/",
          "height": 285
        }
      },
      "source": [
        "plt.plot(df['Close'], df['Min-Max Scaling'])"
      ],
      "execution_count": 21,
      "outputs": [
        {
          "output_type": "execute_result",
          "data": {
            "text/plain": [
              "[<matplotlib.lines.Line2D at 0x7f9e326ba048>]"
            ]
          },
          "metadata": {
            "tags": []
          },
          "execution_count": 21
        },
        {
          "output_type": "display_data",
          "data": {
            "image/png": "[encoded data removed]",
            "text/plain": [
              "<Figure size 432x288 with 1 Axes>"
            ]
          },
          "metadata": {
            "tags": [],
            "needs_background": "light"
          }
        }
      ]
    },
    {
      "cell_type": "code",
      "metadata": {
        "id": "AlVpkD7vA78i",
        "outputId": "9212bc2a-4037-4da2-97a1-cf5f19576f47",
        "colab": {
          "base_uri": "https://localhost:8080/",
          "height": 285
        }
      },
      "source": [
        "plt.plot(df['Close'], df['Max-abs Sscaling'])"
      ],
      "execution_count": 22,
      "outputs": [
        {
          "output_type": "execute_result",
          "data": {
            "text/plain": [
              "[<matplotlib.lines.Line2D at 0x7f9e3268bc88>]"
            ]
          },
          "metadata": {
            "tags": []
          },
          "execution_count": 22
        },
        {
          "output_type": "display_data",
          "data": {
            "image/png": "[encoded data removed]",
            "text/plain": [
              "<Figure size 432x288 with 1 Axes>"
            ]
          },
          "metadata": {
            "tags": [],
            "needs_background": "light"
          }
        }
      ]
    },
    {
      "cell_type": "code",
      "metadata": {
        "id": "2jiwxNT_BDQ8",
        "outputId": "e0d52ee3-150d-436c-8a25-525589afd89a",
        "colab": {
          "base_uri": "https://localhost:8080/",
          "height": 285
        }
      },
      "source": [
        "plt.plot(df['Close'], df['Robust Scaling'])"
      ],
      "execution_count": 23,
      "outputs": [
        {
          "output_type": "execute_result",
          "data": {
            "text/plain": [
              "[<matplotlib.lines.Line2D at 0x7f9e326694e0>]"
            ]
          },
          "metadata": {
            "tags": []
          },
          "execution_count": 23
        },
        {
          "output_type": "display_data",
          "data": {
            "image/png": "[encoded data removed]",
            "text/plain": [
              "<Figure size 432x288 with 1 Axes>"
            ]
          },
          "metadata": {
            "tags": [],
            "needs_background": "light"
          }
        }
      ]
    },
    {
      "cell_type": "code",
      "metadata": {
        "id": "N5OaKFiJBHPI",
        "outputId": "6d42e399-d60d-4049-cc06-7f8864e2741f",
        "colab": {
          "base_uri": "https://localhost:8080/",
          "height": 285
        }
      },
      "source": [
        "plt.plot(df['Close'], df['Quantile Transformation (uniform pdf)'])"
      ],
      "execution_count": 24,
      "outputs": [
        {
          "output_type": "execute_result",
          "data": {
            "text/plain": [
              "[<matplotlib.lines.Line2D at 0x7f9e325c0908>]"
            ]
          },
          "metadata": {
            "tags": []
          },
          "execution_count": 24
        },
        {
          "output_type": "display_data",
          "data": {
            "image/png": "[encoded data removed]",
            "text/plain": [
              "<Figure size 432x288 with 1 Axes>"
            ]
          },
          "metadata": {
            "tags": [],
            "needs_background": "light"
          }
        }
      ]
    },
    {
      "cell_type": "code",
      "metadata": {
        "id": "a4pSjiX-BLcp",
        "outputId": "05809cfe-7148-4090-dee4-1d4c023a3b58",
        "colab": {
          "base_uri": "https://localhost:8080/",
          "height": 285
        }
      },
      "source": [
        "plt.plot(df['Close'], df['Quantile Transformation (gaussian pdf)'])"
      ],
      "execution_count": 25,
      "outputs": [
        {
          "output_type": "execute_result",
          "data": {
            "text/plain": [
              "[<matplotlib.lines.Line2D at 0x7f9e3259b550>]"
            ]
          },
          "metadata": {
            "tags": []
          },
          "execution_count": 25
        },
        {
          "output_type": "display_data",
          "data": {
            "image/png": "[encoded data removed]",
            "text/plain": [
              "<Figure size 432x288 with 1 Axes>"
            ]
          },
          "metadata": {
            "tags": [],
            "needs_background": "light"
          }
        }
      ]
    },
    {
      "cell_type": "code",
      "metadata": {
        "id": "CY65T58JBurN",
        "outputId": "818aa98f-b4b0-4917-d4f1-4af906049b9b",
        "colab": {
          "base_uri": "https://localhost:8080/",
          "height": 285
        }
      },
      "source": [
        "plt.plot(df['Quantile Transformation (gaussian pdf)'])#indicator"
      ],
      "execution_count": 26,
      "outputs": [
        {
          "output_type": "execute_result",
          "data": {
            "text/plain": [
              "[<matplotlib.lines.Line2D at 0x7f9e324f2b00>]"
            ]
          },
          "metadata": {
            "tags": []
          },
          "execution_count": 26
        },
        {
          "output_type": "display_data",
          "data": {
            "image/png": "[encoded data removed]",
            "text/plain": [
              "<Figure size 432x288 with 1 Axes>"
            ]
          },
          "metadata": {
            "tags": [],
            "needs_background": "light"
          }
        }
      ]
    },
    {
      "cell_type": "code",
      "metadata": {
        "id": "Umk7dmdFBP-D",
        "outputId": "2874f62a-ffc2-4fd6-9beb-d638e2940776",
        "colab": {
          "base_uri": "https://localhost:8080/",
          "height": 285
        }
      },
      "source": [
        "plt.plot(df['Close'])"
      ],
      "execution_count": 27,
      "outputs": [
        {
          "output_type": "execute_result",
          "data": {
            "text/plain": [
              "[<matplotlib.lines.Line2D at 0x7f9e324cc198>]"
            ]
          },
          "metadata": {
            "tags": []
          },
          "execution_count": 27
        },
        {
          "output_type": "display_data",
          "data": {
            "image/png": "[encoded data removed]",
            "text/plain": [
              "<Figure size 432x288 with 1 Axes>"
            ]
          },
          "metadata": {
            "tags": [],
            "needs_background": "light"
          }
        }
      ]
    },
    {
      "cell_type": "code",
      "metadata": {
        "id": "tdiU2BStB4qU",
        "outputId": "254a6fc4-0160-4c2f-e628-83e4bbc93816",
        "colab": {
          "base_uri": "https://localhost:8080/",
          "height": 285
        }
      },
      "source": [
        "plt.plot(df['Quantile Transformation (uniform pdf)'])#indicator"
      ],
      "execution_count": 28,
      "outputs": [
        {
          "output_type": "execute_result",
          "data": {
            "text/plain": [
              "[<matplotlib.lines.Line2D at 0x7f9e3249fd30>]"
            ]
          },
          "metadata": {
            "tags": []
          },
          "execution_count": 28
        },
        {
          "output_type": "display_data",
          "data": {
            "image/png": "[encoded data removed]",
            "text/plain": [
              "<Figure size 432x288 with 1 Axes>"
            ]
          },
          "metadata": {
            "tags": [],
            "needs_background": "light"
          }
        }
      ]
    },
    {
      "cell_type": "code",
      "metadata": {
        "id": "_YYnjFUhCQi0",
        "colab": {
          "base_uri": "https://localhost:8080/",
          "height": 77
        },
        "outputId": "9c145702-c4ec-4d11-c177-66259f06f54a"
      },
      "source": [
        "r = pd.read_csv(r'/content/RELIANCE.csv',date_parser='Date')\r\n",
        "r.head(1)"
      ],
      "execution_count": 29,
      "outputs": [
        {
          "output_type": "execute_result",
          "data": {
            "text/html": [
              "<div>\n",
              "<style scoped>\n",
              "    .dataframe tbody tr th:only-of-type {\n",
              "        vertical-align: middle;\n",
              "    }\n",
              "\n",
              "    .dataframe tbody tr th {\n",
              "        vertical-align: top;\n",
              "    }\n",
              "\n",
              "    .dataframe thead th {\n",
              "        text-align: right;\n",
              "    }\n",
              "</style>\n",
              "<table border=\"1\" class=\"dataframe\">\n",
              "  <thead>\n",
              "    <tr style=\"text-align: right;\">\n",
              "      <th></th>\n",
              "      <th>Date</th>\n",
              "      <th>Open</th>\n",
              "      <th>High</th>\n",
              "      <th>Low</th>\n",
              "      <th>Close</th>\n",
              "      <th>Adj Close</th>\n",
              "      <th>Volume</th>\n",
              "    </tr>\n",
              "  </thead>\n",
              "  <tbody>\n",
              "    <tr>\n",
              "      <th>0</th>\n",
              "      <td>2019-12-23</td>\n",
              "      <td>1555.0</td>\n",
              "      <td>1577.0</td>\n",
              "      <td>1555.0</td>\n",
              "      <td>1571.0</td>\n",
              "      <td>1565.124268</td>\n",
              "      <td>1274110.0</td>\n",
              "    </tr>\n",
              "  </tbody>\n",
              "</table>\n",
              "</div>"
            ],
            "text/plain": [
              "         Date    Open    High     Low   Close    Adj Close     Volume\n",
              "0  2019-12-23  1555.0  1577.0  1555.0  1571.0  1565.124268  1274110.0"
            ]
          },
          "metadata": {
            "tags": []
          },
          "execution_count": 29
        }
      ]
    },
    {
      "cell_type": "code",
      "metadata": {
        "id": "NxDM3wQQDu0s",
        "colab": {
          "base_uri": "https://localhost:8080/"
        },
        "outputId": "bf10ae72-0880-42df-eebc-5d8366440f2b"
      },
      "source": [
        "rc = r['Close']\r\n",
        "rc = np.array(rc)\r\n",
        "print(rc)"
      ],
      "execution_count": 30,
      "outputs": [
        {
          "output_type": "stream",
          "text": [
            "[1571.       1545.949951 1515.949951 1542.150024 1544.199951 1514.099976\n",
            " 1509.699951 1535.349976 1537.25     1501.5      1525.050049 1513.949951\n",
            " 1547.949951 1547.699951 1543.449951 1529.050049 1524.       1537.699951\n",
            " 1580.650024 1532.       1533.949951 1533.099976 1527.       1521.699951\n",
            " 1506.599976 1471.349976 1479.699951 1442.5      1411.699951 1385.849976\n",
            " 1425.849976 1448.050049 1457.650024 1433.75     1436.75     1452.599976\n",
            " 1470.       1473.949951 1486.650024 1478.400024 1466.099976 1504.199951\n",
            " 1485.5      1444.849976 1416.300049 1391.400024 1385.800049 1328.650024\n",
            " 1314.849976 1343.650024 1339.150024 1311.5      1270.050049 1270.050049\n",
            " 1153.25     1061.599976 1106.900024 1015.25     1008.900024  968.849976\n",
            "  917.099976 1020.200012  883.849976  943.099976 1081.25     1074.75\n",
            " 1065.5      1032.349976 1112.449951 1080.650024 1078.199951 1206.400024\n",
            " 1192.150024 1219.199951 1189.25     1150.050049 1168.699951 1225.050049\n",
            " 1244.449951 1236.050049 1363.349976 1371.5      1417.349976 1430.300049\n",
            " 1428.099976 1426.199951 1453.219971 1421.869995 1447.22998  1447.869995\n",
            " 1493.040039 1547.079956 1561.890015 1466.300049 1496.400024 1435.449951\n",
            " 1458.900024 1440.650024 1408.150024 1434.650024 1440.050049 1431.599976\n",
            " 1423.699951 1446.949951 1472.650024 1465.199951 1520.449951 1536.099976\n",
            " 1542.449951 1579.949951 1580.599976 1570.050049 1537.099976 1572.\n",
            " 1537.5      1588.800049 1615.       1617.5      1615.400024 1656.25\n",
            " 1759.5      1747.199951 1720.050049 1727.349976 1717.949951 1742.599976\n",
            " 1723.150024 1703.349976 1737.900024 1760.550049 1787.5      1851.400024\n",
            " 1823.949951 1797.349976 1824.599976 1878.5      1934.300049 1916.650024\n",
            " 1845.599976 1843.099976 1911.349976 1919.300049 1971.849976 2004.099976\n",
            " 2060.649902 2146.199951 2155.850098 2177.449951 2095.850098 2108.649902\n",
            " 2066.949951 2008.449951 2151.149902 2126.649902 2134.550049 2146.699951\n",
            " 2119.600098 2134.050049 2127.600098 2122.300049 2114.100098 2091.449951\n",
            " 2118.75     2133.199951 2096.350098 2081.75     2096.050049 2082.\n",
            " 2136.850098 2111.699951 2115.600098 2078.550049 2087.550049 2128.600098\n",
            " 2112.149902 2077.399902 2082.399902 2107.050049 2161.25     2314.649902\n",
            " 2318.850098 2302.350098 2317.899902 2323.850098 2299.350098 2305.5\n",
            " 2255.149902 2211.149902 2229.550049 2181.149902 2201.699951 2215.75\n",
            " 2244.850098 2233.75     2225.050049 2211.149902 2210.149902 2257.149902\n",
            " 2238.899902 2233.699951 2236.600098 2280.25     2287.350098 2205.550049\n",
            " 2175.5      2175.800049 2155.5      2123.25     2107.100098 2112.550049\n",
            " 2028.699951 2034.199951 2010.699951 2026.550049 2054.350098 1877.300049\n",
            " 1849.449951 1913.449951 1955.099976 2029.       2050.300049 2084.5\n",
            " 1996.900024 1979.849976 1996.099976         nan 1992.900024 1987.199951\n",
            " 1972.650024 1899.199951 1950.800049 1965.099976 1947.75     1953.800049\n",
            " 1929.849976 1954.300049 1957.599976 1963.449951 1946.550049 1958.050049\n",
            " 1993.75     2026.650024 2007.199951 2005.599976 1991.150024 1974.\n",
            " 1976.050049 1985.050049 1992.25     1939.75     1936.599976 1943.800049]\n"
          ],
          "name": "stdout"
        }
      ]
    },
    {
      "cell_type": "code",
      "metadata": {
        "id": "ADJFAdllkarg"
      },
      "source": [
        ""
      ],
      "execution_count": 30,
      "outputs": []
    },
    {
      "cell_type": "code",
      "metadata": {
        "id": "5nlky_WoEDCi",
        "colab": {
          "base_uri": "https://localhost:8080/"
        },
        "outputId": "f22b790e-b390-4eb4-ad91-b659c992485f"
      },
      "source": [
        "rc = remove_nan(rc)\r\n",
        "print(rc)"
      ],
      "execution_count": 31,
      "outputs": [
        {
          "output_type": "stream",
          "text": [
            "[1571.       1545.949951 1515.949951 1542.150024 1544.199951 1514.099976\n",
            " 1509.699951 1535.349976 1537.25     1501.5      1525.050049 1513.949951\n",
            " 1547.949951 1547.699951 1543.449951 1529.050049 1524.       1537.699951\n",
            " 1580.650024 1532.       1533.949951 1533.099976 1527.       1521.699951\n",
            " 1506.599976 1471.349976 1479.699951 1442.5      1411.699951 1385.849976\n",
            " 1425.849976 1448.050049 1457.650024 1433.75     1436.75     1452.599976\n",
            " 1470.       1473.949951 1486.650024 1478.400024 1466.099976 1504.199951\n",
            " 1485.5      1444.849976 1416.300049 1391.400024 1385.800049 1328.650024\n",
            " 1314.849976 1343.650024 1339.150024 1311.5      1270.050049 1270.050049\n",
            " 1153.25     1061.599976 1106.900024 1015.25     1008.900024  968.849976\n",
            "  917.099976 1020.200012  883.849976  943.099976 1081.25     1074.75\n",
            " 1065.5      1032.349976 1112.449951 1080.650024 1078.199951 1206.400024\n",
            " 1192.150024 1219.199951 1189.25     1150.050049 1168.699951 1225.050049\n",
            " 1244.449951 1236.050049 1363.349976 1371.5      1417.349976 1430.300049\n",
            " 1428.099976 1426.199951 1453.219971 1421.869995 1447.22998  1447.869995\n",
            " 1493.040039 1547.079956 1561.890015 1466.300049 1496.400024 1435.449951\n",
            " 1458.900024 1440.650024 1408.150024 1434.650024 1440.050049 1431.599976\n",
            " 1423.699951 1446.949951 1472.650024 1465.199951 1520.449951 1536.099976\n",
            " 1542.449951 1579.949951 1580.599976 1570.050049 1537.099976 1572.\n",
            " 1537.5      1588.800049 1615.       1617.5      1615.400024 1656.25\n",
            " 1759.5      1747.199951 1720.050049 1727.349976 1717.949951 1742.599976\n",
            " 1723.150024 1703.349976 1737.900024 1760.550049 1787.5      1851.400024\n",
            " 1823.949951 1797.349976 1824.599976 1878.5      1934.300049 1916.650024\n",
            " 1845.599976 1843.099976 1911.349976 1919.300049 1971.849976 2004.099976\n",
            " 2060.649902 2146.199951 2155.850098 2177.449951 2095.850098 2108.649902\n",
            " 2066.949951 2008.449951 2151.149902 2126.649902 2134.550049 2146.699951\n",
            " 2119.600098 2134.050049 2127.600098 2122.300049 2114.100098 2091.449951\n",
            " 2118.75     2133.199951 2096.350098 2081.75     2096.050049 2082.\n",
            " 2136.850098 2111.699951 2115.600098 2078.550049 2087.550049 2128.600098\n",
            " 2112.149902 2077.399902 2082.399902 2107.050049 2161.25     2314.649902\n",
            " 2318.850098 2302.350098 2317.899902 2323.850098 2299.350098 2305.5\n",
            " 2255.149902 2211.149902 2229.550049 2181.149902 2201.699951 2215.75\n",
            " 2244.850098 2233.75     2225.050049 2211.149902 2210.149902 2257.149902\n",
            " 2238.899902 2233.699951 2236.600098 2280.25     2287.350098 2205.550049\n",
            " 2175.5      2175.800049 2155.5      2123.25     2107.100098 2112.550049\n",
            " 2028.699951 2034.199951 2010.699951 2026.550049 2054.350098 1877.300049\n",
            " 1849.449951 1913.449951 1955.099976 2029.       2050.300049 2084.5\n",
            " 1996.900024 1979.849976 1996.099976 1992.900024 1987.199951 1972.650024\n",
            " 1899.199951 1950.800049 1965.099976 1947.75     1953.800049 1929.849976\n",
            " 1954.300049 1957.599976 1963.449951 1946.550049 1958.050049 1993.75\n",
            " 2026.650024 2007.199951 2005.599976 1991.150024 1974.       1976.050049\n",
            " 1985.050049 1992.25     1939.75     1936.599976 1943.800049]\n"
          ],
          "name": "stdout"
        }
      ]
    },
    {
      "cell_type": "code",
      "metadata": {
        "id": "2ps3qhPy5c1q",
        "outputId": "bdc38524-ead6-490f-8252-5ddfed1a2778",
        "colab": {
          "base_uri": "https://localhost:8080/"
        }
      },
      "source": [
        "rc = rc.reshape(-1, 1)\r\n",
        "print(rc)"
      ],
      "execution_count": 32,
      "outputs": [
        {
          "output_type": "stream",
          "text": [
            "[[1571.      ]\n",
            " [1545.949951]\n",
            " [1515.949951]\n",
            " [1542.150024]\n",
            " [1544.199951]\n",
            " [1514.099976]\n",
            " [1509.699951]\n",
            " [1535.349976]\n",
            " [1537.25    ]\n",
            " [1501.5     ]\n",
            " [1525.050049]\n",
            " [1513.949951]\n",
            " [1547.949951]\n",
            " [1547.699951]\n",
            " [1543.449951]\n",
            " [1529.050049]\n",
            " [1524.      ]\n",
            " [1537.699951]\n",
            " [1580.650024]\n",
            " [1532.      ]\n",
            " [1533.949951]\n",
            " [1533.099976]\n",
            " [1527.      ]\n",
            " [1521.699951]\n",
            " [1506.599976]\n",
            " [1471.349976]\n",
            " [1479.699951]\n",
            " [1442.5     ]\n",
            " [1411.699951]\n",
            " [1385.849976]\n",
            " [1425.849976]\n",
            " [1448.050049]\n",
            " [1457.650024]\n",
            " [1433.75    ]\n",
            " [1436.75    ]\n",
            " [1452.599976]\n",
            " [1470.      ]\n",
            " [1473.949951]\n",
            " [1486.650024]\n",
            " [1478.400024]\n",
            " [1466.099976]\n",
            " [1504.199951]\n",
            " [1485.5     ]\n",
            " [1444.849976]\n",
            " [1416.300049]\n",
            " [1391.400024]\n",
            " [1385.800049]\n",
            " [1328.650024]\n",
            " [1314.849976]\n",
            " [1343.650024]\n",
            " [1339.150024]\n",
            " [1311.5     ]\n",
            " [1270.050049]\n",
            " [1270.050049]\n",
            " [1153.25    ]\n",
            " [1061.599976]\n",
            " [1106.900024]\n",
            " [1015.25    ]\n",
            " [1008.900024]\n",
            " [ 968.849976]\n",
            " [ 917.099976]\n",
            " [1020.200012]\n",
            " [ 883.849976]\n",
            " [ 943.099976]\n",
            " [1081.25    ]\n",
            " [1074.75    ]\n",
            " [1065.5     ]\n",
            " [1032.349976]\n",
            " [1112.449951]\n",
            " [1080.650024]\n",
            " [1078.199951]\n",
            " [1206.400024]\n",
            " [1192.150024]\n",
            " [1219.199951]\n",
            " [1189.25    ]\n",
            " [1150.050049]\n",
            " [1168.699951]\n",
            " [1225.050049]\n",
            " [1244.449951]\n",
            " [1236.050049]\n",
            " [1363.349976]\n",
            " [1371.5     ]\n",
            " [1417.349976]\n",
            " [1430.300049]\n",
            " [1428.099976]\n",
            " [1426.199951]\n",
            " [1453.219971]\n",
            " [1421.869995]\n",
            " [1447.22998 ]\n",
            " [1447.869995]\n",
            " [1493.040039]\n",
            " [1547.079956]\n",
            " [1561.890015]\n",
            " [1466.300049]\n",
            " [1496.400024]\n",
            " [1435.449951]\n",
            " [1458.900024]\n",
            " [1440.650024]\n",
            " [1408.150024]\n",
            " [1434.650024]\n",
            " [1440.050049]\n",
            " [1431.599976]\n",
            " [1423.699951]\n",
            " [1446.949951]\n",
            " [1472.650024]\n",
            " [1465.199951]\n",
            " [1520.449951]\n",
            " [1536.099976]\n",
            " [1542.449951]\n",
            " [1579.949951]\n",
            " [1580.599976]\n",
            " [1570.050049]\n",
            " [1537.099976]\n",
            " [1572.      ]\n",
            " [1537.5     ]\n",
            " [1588.800049]\n",
            " [1615.      ]\n",
            " [1617.5     ]\n",
            " [1615.400024]\n",
            " [1656.25    ]\n",
            " [1759.5     ]\n",
            " [1747.199951]\n",
            " [1720.050049]\n",
            " [1727.349976]\n",
            " [1717.949951]\n",
            " [1742.599976]\n",
            " [1723.150024]\n",
            " [1703.349976]\n",
            " [1737.900024]\n",
            " [1760.550049]\n",
            " [1787.5     ]\n",
            " [1851.400024]\n",
            " [1823.949951]\n",
            " [1797.349976]\n",
            " [1824.599976]\n",
            " [1878.5     ]\n",
            " [1934.300049]\n",
            " [1916.650024]\n",
            " [1845.599976]\n",
            " [1843.099976]\n",
            " [1911.349976]\n",
            " [1919.300049]\n",
            " [1971.849976]\n",
            " [2004.099976]\n",
            " [2060.649902]\n",
            " [2146.199951]\n",
            " [2155.850098]\n",
            " [2177.449951]\n",
            " [2095.850098]\n",
            " [2108.649902]\n",
            " [2066.949951]\n",
            " [2008.449951]\n",
            " [2151.149902]\n",
            " [2126.649902]\n",
            " [2134.550049]\n",
            " [2146.699951]\n",
            " [2119.600098]\n",
            " [2134.050049]\n",
            " [2127.600098]\n",
            " [2122.300049]\n",
            " [2114.100098]\n",
            " [2091.449951]\n",
            " [2118.75    ]\n",
            " [2133.199951]\n",
            " [2096.350098]\n",
            " [2081.75    ]\n",
            " [2096.050049]\n",
            " [2082.      ]\n",
            " [2136.850098]\n",
            " [2111.699951]\n",
            " [2115.600098]\n",
            " [2078.550049]\n",
            " [2087.550049]\n",
            " [2128.600098]\n",
            " [2112.149902]\n",
            " [2077.399902]\n",
            " [2082.399902]\n",
            " [2107.050049]\n",
            " [2161.25    ]\n",
            " [2314.649902]\n",
            " [2318.850098]\n",
            " [2302.350098]\n",
            " [2317.899902]\n",
            " [2323.850098]\n",
            " [2299.350098]\n",
            " [2305.5     ]\n",
            " [2255.149902]\n",
            " [2211.149902]\n",
            " [2229.550049]\n",
            " [2181.149902]\n",
            " [2201.699951]\n",
            " [2215.75    ]\n",
            " [2244.850098]\n",
            " [2233.75    ]\n",
            " [2225.050049]\n",
            " [2211.149902]\n",
            " [2210.149902]\n",
            " [2257.149902]\n",
            " [2238.899902]\n",
            " [2233.699951]\n",
            " [2236.600098]\n",
            " [2280.25    ]\n",
            " [2287.350098]\n",
            " [2205.550049]\n",
            " [2175.5     ]\n",
            " [2175.800049]\n",
            " [2155.5     ]\n",
            " [2123.25    ]\n",
            " [2107.100098]\n",
            " [2112.550049]\n",
            " [2028.699951]\n",
            " [2034.199951]\n",
            " [2010.699951]\n",
            " [2026.550049]\n",
            " [2054.350098]\n",
            " [1877.300049]\n",
            " [1849.449951]\n",
            " [1913.449951]\n",
            " [1955.099976]\n",
            " [2029.      ]\n",
            " [2050.300049]\n",
            " [2084.5     ]\n",
            " [1996.900024]\n",
            " [1979.849976]\n",
            " [1996.099976]\n",
            " [1992.900024]\n",
            " [1987.199951]\n",
            " [1972.650024]\n",
            " [1899.199951]\n",
            " [1950.800049]\n",
            " [1965.099976]\n",
            " [1947.75    ]\n",
            " [1953.800049]\n",
            " [1929.849976]\n",
            " [1954.300049]\n",
            " [1957.599976]\n",
            " [1963.449951]\n",
            " [1946.550049]\n",
            " [1958.050049]\n",
            " [1993.75    ]\n",
            " [2026.650024]\n",
            " [2007.199951]\n",
            " [2005.599976]\n",
            " [1991.150024]\n",
            " [1974.      ]\n",
            " [1976.050049]\n",
            " [1985.050049]\n",
            " [1992.25    ]\n",
            " [1939.75    ]\n",
            " [1936.599976]\n",
            " [1943.800049]]\n"
          ],
          "name": "stdout"
        }
      ]
    },
    {
      "cell_type": "code",
      "metadata": {
        "id": "-8vQnsJ5ETDB",
        "outputId": "13c15702-ea02-4c81-bd18-ae774b2e7ce8",
        "colab": {
          "base_uri": "https://localhost:8080/"
        }
      },
      "source": [
        "scale = MinMaxScaler()\r\n",
        "rc = scale.fit_transform(rc)\r\n",
        "print(rc)"
      ],
      "execution_count": 50,
      "outputs": [
        {
          "output_type": "stream",
          "text": [
            "[[0.47718748]\n",
            " [0.45979161]\n",
            " [0.43895828]\n",
            " [0.45715277]\n",
            " [0.45857633]\n",
            " [0.43767357]\n",
            " [0.434618  ]\n",
            " [0.45243052]\n",
            " [0.45374998]\n",
            " [0.42892359]\n",
            " [0.44527779]\n",
            " [0.43756939]\n",
            " [0.4611805 ]\n",
            " [0.46100689]\n",
            " [0.4580555 ]\n",
            " [0.44805557]\n",
            " [0.44454859]\n",
            " [0.45406244]\n",
            " [0.48388888]\n",
            " [0.45010415]\n",
            " [0.45145828]\n",
            " [0.45086802]\n",
            " [0.44663192]\n",
            " [0.44295133]\n",
            " [0.43246524]\n",
            " [0.40798608]\n",
            " [0.41378467]\n",
            " [0.38795137]\n",
            " [0.36656245]\n",
            " [0.34861108]\n",
            " [0.37638886]\n",
            " [0.39180557]\n",
            " [0.39847222]\n",
            " [0.38187498]\n",
            " [0.38395832]\n",
            " [0.39496524]\n",
            " [0.40704859]\n",
            " [0.40979161]\n",
            " [0.41861111]\n",
            " [0.41288194]\n",
            " [0.40434024]\n",
            " [0.43079856]\n",
            " [0.41781248]\n",
            " [0.3895833 ]\n",
            " [0.36975696]\n",
            " [0.35246528]\n",
            " [0.34857641]\n",
            " [0.3088889 ]\n",
            " [0.29930553]\n",
            " [0.31930556]\n",
            " [0.31618056]\n",
            " [0.29697916]\n",
            " [0.26819447]\n",
            " [0.26819447]\n",
            " [0.18708333]\n",
            " [0.12343749]\n",
            " [0.15489585]\n",
            " [0.09125001]\n",
            " [0.0868403 ]\n",
            " [0.05902777]\n",
            " [0.02309028]\n",
            " [0.09468752]\n",
            " [0.        ]\n",
            " [0.04114583]\n",
            " [0.13708334]\n",
            " [0.13256945]\n",
            " [0.12614584]\n",
            " [0.10312499]\n",
            " [0.15874997]\n",
            " [0.13666669]\n",
            " [0.13496525]\n",
            " [0.22399307]\n",
            " [0.21409724]\n",
            " [0.23288191]\n",
            " [0.21208333]\n",
            " [0.18486115]\n",
            " [0.19781247]\n",
            " [0.23694448]\n",
            " [0.25041663]\n",
            " [0.24458336]\n",
            " [0.33298608]\n",
            " [0.33864582]\n",
            " [0.37048608]\n",
            " [0.37947919]\n",
            " [0.37795136]\n",
            " [0.3766319 ]\n",
            " [0.3953958 ]\n",
            " [0.37362498]\n",
            " [0.39123608]\n",
            " [0.39168054]\n",
            " [0.42304862]\n",
            " [0.46057634]\n",
            " [0.4708611 ]\n",
            " [0.40447918]\n",
            " [0.42538194]\n",
            " [0.38305551]\n",
            " [0.39934028]\n",
            " [0.38666667]\n",
            " [0.36409722]\n",
            " [0.3825    ]\n",
            " [0.38625002]\n",
            " [0.38038191]\n",
            " [0.37489578]\n",
            " [0.39104162]\n",
            " [0.40888889]\n",
            " [0.40371523]\n",
            " [0.44208328]\n",
            " [0.45295135]\n",
            " [0.45736106]\n",
            " [0.48340272]\n",
            " [0.48385413]\n",
            " [0.47652779]\n",
            " [0.45364579]\n",
            " [0.47788192]\n",
            " [0.45392359]\n",
            " [0.48954862]\n",
            " [0.50774303]\n",
            " [0.50947914]\n",
            " [0.50802082]\n",
            " [0.53638886]\n",
            " [0.60809024]\n",
            " [0.59954854]\n",
            " [0.58069445]\n",
            " [0.58576384]\n",
            " [0.57923604]\n",
            " [0.59635412]\n",
            " [0.58284721]\n",
            " [0.56909717]\n",
            " [0.59309026]\n",
            " [0.60881944]\n",
            " [0.62753469]\n",
            " [0.6719097 ]\n",
            " [0.65284715]\n",
            " [0.63437495]\n",
            " [0.65329856]\n",
            " [0.69072912]\n",
            " [0.72947916]\n",
            " [0.71722219]\n",
            " [0.66788189]\n",
            " [0.66614578]\n",
            " [0.71354161]\n",
            " [0.71906249]\n",
            " [0.75555549]\n",
            " [0.77795132]\n",
            " [0.8172221 ]\n",
            " [0.87663185]\n",
            " [0.88333334]\n",
            " [0.89833324]\n",
            " [0.84166668]\n",
            " [0.85055543]\n",
            " [0.82159714]\n",
            " [0.78097214]\n",
            " [0.88006932]\n",
            " [0.86305543]\n",
            " [0.86854164]\n",
            " [0.87697908]\n",
            " [0.85815973]\n",
            " [0.86819442]\n",
            " [0.86371529]\n",
            " [0.8600347 ]\n",
            " [0.85434029]\n",
            " [0.83861102]\n",
            " [0.85756939]\n",
            " [0.86760408]\n",
            " [0.8420139 ]\n",
            " [0.83187495]\n",
            " [0.84180553]\n",
            " [0.83204856]\n",
            " [0.8701389 ]\n",
            " [0.85267352]\n",
            " [0.85538196]\n",
            " [0.82965276]\n",
            " [0.83590276]\n",
            " [0.86440973]\n",
            " [0.85298599]\n",
            " [0.82885405]\n",
            " [0.83232627]\n",
            " [0.84944442]\n",
            " [0.88708327]\n",
            " [0.99361098]\n",
            " [0.99652778]\n",
            " [0.98506945]\n",
            " [0.99586792]\n",
            " [1.        ]\n",
            " [0.98298611]\n",
            " [0.98725688]\n",
            " [0.95229153]\n",
            " [0.92173598]\n",
            " [0.93451386]\n",
            " [0.90090265]\n",
            " [0.91517352]\n",
            " [0.92493049]\n",
            " [0.94513889]\n",
            " [0.93743049]\n",
            " [0.93138886]\n",
            " [0.92173598]\n",
            " [0.92104154]\n",
            " [0.95368042]\n",
            " [0.94100681]\n",
            " [0.93739574]\n",
            " [0.93940973]\n",
            " [0.96972216]\n",
            " [0.97465278]\n",
            " [0.9178472 ]\n",
            " [0.89697911]\n",
            " [0.89718747]\n",
            " [0.88309022]\n",
            " [0.86069439]\n",
            " [0.84947918]\n",
            " [0.85326387]\n",
            " [0.79503464]\n",
            " [0.79885408]\n",
            " [0.78253464]\n",
            " [0.79354165]\n",
            " [0.81284724]\n",
            " [0.68989583]\n",
            " [0.67055548]\n",
            " [0.71499992]\n",
            " [0.74392355]\n",
            " [0.795243  ]\n",
            " [0.8100347 ]\n",
            " [0.83378467]\n",
            " [0.77295136]\n",
            " [0.76111105]\n",
            " [0.77239577]\n",
            " [0.77017358]\n",
            " [0.7662152 ]\n",
            " [0.75611108]\n",
            " [0.70510409]\n",
            " [0.74093749]\n",
            " [0.75086799]\n",
            " [0.7388194 ]\n",
            " [0.74302082]\n",
            " [0.72638883]\n",
            " [0.74336804]\n",
            " [0.74565966]\n",
            " [0.74972214]\n",
            " [0.7379861 ]\n",
            " [0.74597221]\n",
            " [0.77076384]\n",
            " [0.79361108]\n",
            " [0.78010408]\n",
            " [0.77899299]\n",
            " [0.7689583 ]\n",
            " [0.75704856]\n",
            " [0.75847221]\n",
            " [0.76472221]\n",
            " [0.76972217]\n",
            " [0.73326384]\n",
            " [0.73107633]\n",
            " [0.73607638]]\n"
          ],
          "name": "stdout"
        }
      ]
    },
    {
      "cell_type": "code",
      "metadata": {
        "id": "i9YO59sb4pC9",
        "outputId": "9994ce8c-4d44-4109-ab93-fe3b15eb1c7a",
        "colab": {
          "base_uri": "https://localhost:8080/"
        }
      },
      "source": [
        "a = list(rc)\r\n",
        "sorted(a)"
      ],
      "execution_count": 49,
      "outputs": [
        {
          "output_type": "execute_result",
          "data": {
            "text/plain": [
              "[array([0.]),\n",
              " array([0.02309028]),\n",
              " array([0.04114583]),\n",
              " array([0.05902777]),\n",
              " array([0.0868403]),\n",
              " array([0.09125001]),\n",
              " array([0.09468752]),\n",
              " array([0.10312499]),\n",
              " array([0.12343749]),\n",
              " array([0.12614584]),\n",
              " array([0.13256945]),\n",
              " array([0.13496525]),\n",
              " array([0.13666669]),\n",
              " array([0.13708334]),\n",
              " array([0.15489585]),\n",
              " array([0.15874997]),\n",
              " array([0.18486115]),\n",
              " array([0.18708333]),\n",
              " array([0.19781247]),\n",
              " array([0.21208333]),\n",
              " array([0.21409724]),\n",
              " array([0.22399307]),\n",
              " array([0.23288191]),\n",
              " array([0.23694448]),\n",
              " array([0.24458336]),\n",
              " array([0.25041663]),\n",
              " array([0.26819447]),\n",
              " array([0.26819447]),\n",
              " array([0.29697916]),\n",
              " array([0.29930553]),\n",
              " array([0.3088889]),\n",
              " array([0.31618056]),\n",
              " array([0.31930556]),\n",
              " array([0.33298608]),\n",
              " array([0.33864582]),\n",
              " array([0.34857641]),\n",
              " array([0.34861108]),\n",
              " array([0.35246528]),\n",
              " array([0.36409722]),\n",
              " array([0.36656245]),\n",
              " array([0.36975696]),\n",
              " array([0.37048608]),\n",
              " array([0.37362498]),\n",
              " array([0.37489578]),\n",
              " array([0.37638886]),\n",
              " array([0.3766319]),\n",
              " array([0.37795136]),\n",
              " array([0.37947919]),\n",
              " array([0.38038191]),\n",
              " array([0.38187498]),\n",
              " array([0.3825]),\n",
              " array([0.38305551]),\n",
              " array([0.38395832]),\n",
              " array([0.38625002]),\n",
              " array([0.38666667]),\n",
              " array([0.38795137]),\n",
              " array([0.3895833]),\n",
              " array([0.39104162]),\n",
              " array([0.39123608]),\n",
              " array([0.39168054]),\n",
              " array([0.39180557]),\n",
              " array([0.39496524]),\n",
              " array([0.3953958]),\n",
              " array([0.39847222]),\n",
              " array([0.39934028]),\n",
              " array([0.40371523]),\n",
              " array([0.40434024]),\n",
              " array([0.40447918]),\n",
              " array([0.40704859]),\n",
              " array([0.40798608]),\n",
              " array([0.40888889]),\n",
              " array([0.40979161]),\n",
              " array([0.41288194]),\n",
              " array([0.41378467]),\n",
              " array([0.41781248]),\n",
              " array([0.41861111]),\n",
              " array([0.42304862]),\n",
              " array([0.42538194]),\n",
              " array([0.42892359]),\n",
              " array([0.43079856]),\n",
              " array([0.43246524]),\n",
              " array([0.434618]),\n",
              " array([0.43756939]),\n",
              " array([0.43767357]),\n",
              " array([0.43895828]),\n",
              " array([0.44208328]),\n",
              " array([0.44295133]),\n",
              " array([0.44454859]),\n",
              " array([0.44527779]),\n",
              " array([0.44663192]),\n",
              " array([0.44805557]),\n",
              " array([0.45010415]),\n",
              " array([0.45086802]),\n",
              " array([0.45145828]),\n",
              " array([0.45243052]),\n",
              " array([0.45295135]),\n",
              " array([0.45364579]),\n",
              " array([0.45374998]),\n",
              " array([0.45392359]),\n",
              " array([0.45406244]),\n",
              " array([0.45715277]),\n",
              " array([0.45736106]),\n",
              " array([0.4580555]),\n",
              " array([0.45857633]),\n",
              " array([0.45979161]),\n",
              " array([0.46057634]),\n",
              " array([0.46100689]),\n",
              " array([0.4611805]),\n",
              " array([0.4708611]),\n",
              " array([0.47652779]),\n",
              " array([0.47718748]),\n",
              " array([0.47788192]),\n",
              " array([0.48340272]),\n",
              " array([0.48385413]),\n",
              " array([0.48388888]),\n",
              " array([0.48954862]),\n",
              " array([0.50774303]),\n",
              " array([0.50802082]),\n",
              " array([0.50947914]),\n",
              " array([0.53638886]),\n",
              " array([0.56909717]),\n",
              " array([0.57923604]),\n",
              " array([0.58069445]),\n",
              " array([0.58284721]),\n",
              " array([0.58576384]),\n",
              " array([0.59309026]),\n",
              " array([0.59635412]),\n",
              " array([0.59954854]),\n",
              " array([0.60809024]),\n",
              " array([0.60881944]),\n",
              " array([0.62753469]),\n",
              " array([0.63437495]),\n",
              " array([0.65284715]),\n",
              " array([0.65329856]),\n",
              " array([0.66614578]),\n",
              " array([0.66788189]),\n",
              " array([0.67055548]),\n",
              " array([0.6719097]),\n",
              " array([0.68989583]),\n",
              " array([0.69072912]),\n",
              " array([0.70510409]),\n",
              " array([0.71354161]),\n",
              " array([0.71499992]),\n",
              " array([0.71722219]),\n",
              " array([0.71906249]),\n",
              " array([0.72638883]),\n",
              " array([0.72947916]),\n",
              " array([0.73107633]),\n",
              " array([0.73326384]),\n",
              " array([0.73607638]),\n",
              " array([0.7379861]),\n",
              " array([0.7388194]),\n",
              " array([0.74093749]),\n",
              " array([0.74302082]),\n",
              " array([0.74336804]),\n",
              " array([0.74392355]),\n",
              " array([0.74565966]),\n",
              " array([0.74597221]),\n",
              " array([0.74972214]),\n",
              " array([0.75086799]),\n",
              " array([0.75555549]),\n",
              " array([0.75611108]),\n",
              " array([0.75704856]),\n",
              " array([0.75847221]),\n",
              " array([0.76111105]),\n",
              " array([0.76472221]),\n",
              " array([0.7662152]),\n",
              " array([0.7689583]),\n",
              " array([0.76972217]),\n",
              " array([0.77017358]),\n",
              " array([0.77076384]),\n",
              " array([0.77239577]),\n",
              " array([0.77295136]),\n",
              " array([0.77795132]),\n",
              " array([0.77899299]),\n",
              " array([0.78010408]),\n",
              " array([0.78097214]),\n",
              " array([0.78253464]),\n",
              " array([0.79354165]),\n",
              " array([0.79361108]),\n",
              " array([0.79503464]),\n",
              " array([0.795243]),\n",
              " array([0.79885408]),\n",
              " array([0.8100347]),\n",
              " array([0.81284724]),\n",
              " array([0.8172221]),\n",
              " array([0.82159714]),\n",
              " array([0.82885405]),\n",
              " array([0.82965276]),\n",
              " array([0.83187495]),\n",
              " array([0.83204856]),\n",
              " array([0.83232627]),\n",
              " array([0.83378467]),\n",
              " array([0.83590276]),\n",
              " array([0.83861102]),\n",
              " array([0.84166668]),\n",
              " array([0.84180553]),\n",
              " array([0.8420139]),\n",
              " array([0.84944442]),\n",
              " array([0.84947918]),\n",
              " array([0.85055543]),\n",
              " array([0.85267352]),\n",
              " array([0.85298599]),\n",
              " array([0.85326387]),\n",
              " array([0.85434029]),\n",
              " array([0.85538196]),\n",
              " array([0.85756939]),\n",
              " array([0.85815973]),\n",
              " array([0.8600347]),\n",
              " array([0.86069439]),\n",
              " array([0.86305543]),\n",
              " array([0.86371529]),\n",
              " array([0.86440973]),\n",
              " array([0.86760408]),\n",
              " array([0.86819442]),\n",
              " array([0.86854164]),\n",
              " array([0.8701389]),\n",
              " array([0.87663185]),\n",
              " array([0.87697908]),\n",
              " array([0.88006932]),\n",
              " array([0.88309022]),\n",
              " array([0.88333334]),\n",
              " array([0.88708327]),\n",
              " array([0.89697911]),\n",
              " array([0.89718747]),\n",
              " array([0.89833324]),\n",
              " array([0.90090265]),\n",
              " array([0.91517352]),\n",
              " array([0.9178472]),\n",
              " array([0.92104154]),\n",
              " array([0.92173598]),\n",
              " array([0.92173598]),\n",
              " array([0.92493049]),\n",
              " array([0.93138886]),\n",
              " array([0.93451386]),\n",
              " array([0.93739574]),\n",
              " array([0.93743049]),\n",
              " array([0.93940973]),\n",
              " array([0.94100681]),\n",
              " array([0.94513889]),\n",
              " array([0.95229153]),\n",
              " array([0.95368042]),\n",
              " array([0.96972216]),\n",
              " array([0.97465278]),\n",
              " array([0.98298611]),\n",
              " array([0.98506945]),\n",
              " array([0.98725688]),\n",
              " array([0.99361098]),\n",
              " array([0.99586792]),\n",
              " array([0.99652778]),\n",
              " array([1.])]"
            ]
          },
          "metadata": {
            "tags": []
          },
          "execution_count": 49
        }
      ]
    },
    {
      "cell_type": "code",
      "metadata": {
        "id": "-vEcPFSx4r4D",
        "outputId": "13694261-41fd-4bc7-92a8-432e57740621",
        "colab": {
          "base_uri": "https://localhost:8080/"
        }
      },
      "source": [
        "a = [1,4,3,2,5,7,8,4,33,2]\r\n",
        "sorted(a)"
      ],
      "execution_count": 48,
      "outputs": [
        {
          "output_type": "execute_result",
          "data": {
            "text/plain": [
              "[1, 2, 2, 3, 4, 4, 5, 7, 8, 33]"
            ]
          },
          "metadata": {
            "tags": []
          },
          "execution_count": 48
        }
      ]
    },
    {
      "cell_type": "code",
      "metadata": {
        "id": "cd283MYjtOkv"
      },
      "source": [
        ""
      ],
      "execution_count": null,
      "outputs": []
    }
  ]
}