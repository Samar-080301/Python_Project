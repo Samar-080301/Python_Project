{
  "nbformat": 4,
  "nbformat_minor": 0,
  "metadata": {
    "colab": {
      "name": "BSE_Project.ipynb",
      "provenance": [],
      "authorship_tag": "ABX9TyMMwAav2RlHIzyiiWh3llMU",
      "include_colab_link": true
    },
    "kernelspec": {
      "name": "python3",
      "display_name": "Python 3"
    }
  },
  "cells": [
    {
      "cell_type": "markdown",
      "metadata": {
        "id": "view-in-github",
        "colab_type": "text"
      },
      "source": [
        "<a href=\"https://colab.research.google.com/github/Samar-080301/Python_Project/blob/master/BSE_Project.ipynb\" target=\"_parent\"><img src=\"https://colab.research.google.com/assets/colab-badge.svg\" alt=\"Open In Colab\"/></a>"
      ]
    },
    {
      "cell_type": "code",
      "metadata": {
        "id": "n_2KXCi44zls"
      },
      "source": [
        "import pandas as pd\r\n",
        "import numpy as np\r\n",
        "import matplotlib.pyplot as plt\r\n",
        "import requests\r\n",
        "%matplotlib inline"
      ],
      "execution_count": 1,
      "outputs": []
    },
    {
      "cell_type": "code",
      "metadata": {
        "id": "WyG5R4ob43lz"
      },
      "source": [
        "def download_stock_data(stock):\r\n",
        "    url = \"https://query1.finance.yahoo.com/v7/finance/download/\"+stock+\".BO?period1=1577110559&period2=1608732959&interval=1d&events=history&includeAdjustedClose=true\"\r\n",
        "    r = requests.get(url)\r\n",
        "    open(stock+'.csv','wb').write(r.content)  "
      ],
      "execution_count": 2,
      "outputs": []
    },
    {
      "cell_type": "code",
      "metadata": {
        "id": "Sjzp6WIX47Bd"
      },
      "source": [
        "index = ['RELIANCE','INFY','HCLTECH','TCS','BAJAJ-AUTO',\r\n",
        "         'TITAN','LT','NESTLEIND','TECHM','ASIANPAINT',\r\n",
        "         'M&M','ICICIBANK','POWERGRID','HINDUNILVR','SUNPHARMA',\r\n",
        "         'TATASTEEL','AXISBANK','SBIN','ULTRACEMCO','BAJAJFINSV',\r\n",
        "        'ITC','NTPC','BAJFINANCE','BHARTIARTL','MARUTI',\r\n",
        "         'KOTAKBANK','HDFC','HDFCBANK','ONGC','INDUSINDBK']"
      ],
      "execution_count": 3,
      "outputs": []
    },
    {
      "cell_type": "code",
      "metadata": {
        "id": "0inij7wn5Aoe"
      },
      "source": [
        "a=1\r\n",
        "for i in index:\r\n",
        "    download_stock_data(i)\r\n",
        "    print(a)\r\n",
        "    a+=1"
      ],
      "execution_count": null,
      "outputs": []
    }
  ]
}