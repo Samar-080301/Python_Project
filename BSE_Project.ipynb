{
  "nbformat": 4,
  "nbformat_minor": 0,
  "metadata": {
    "colab": {
      "name": "BSE_Project.ipynb",
      "provenance": [],
      "collapsed_sections": [],
      "authorship_tag": "ABX9TyML2pyO0XxB0qMquHQ9BSi8",
      "include_colab_link": true
    },
    "kernelspec": {
      "name": "python3",
      "display_name": "Python 3"
    }
  },
  "cells": [
    {
      "cell_type": "markdown",
      "metadata": {
        "id": "view-in-github",
        "colab_type": "text"
      },
      "source": [
        "<a href=\"https://colab.research.google.com/github/Samar-080301/Python_Project/blob/master/BSE_Project.ipynb\" target=\"_parent\"><img src=\"https://colab.research.google.com/assets/colab-badge.svg\" alt=\"Open In Colab\"/></a>"
      ]
    },
    {
      "cell_type": "code",
      "metadata": {
        "id": "n_2KXCi44zls"
      },
      "source": [
        "import pandas as pd\r\n",
        "import numpy as np\r\n",
        "import matplotlib.pyplot as plt\r\n",
        "import requests\r\n",
        "from sklearn.preprocessing import MinMaxScaler\r\n",
        "from sklearn.preprocessing import minmax_scale\r\n",
        "from sklearn.preprocessing import MaxAbsScaler\r\n",
        "from sklearn.preprocessing import StandardScaler\r\n",
        "from sklearn.preprocessing import RobustScaler\r\n",
        "from sklearn.preprocessing import Normalizer\r\n",
        "from sklearn.preprocessing import QuantileTransformer\r\n",
        "import seaborn as sns\r\n",
        "sns.set(style=\"white\", color_codes=True)\r\n",
        "%matplotlib inline"
      ],
      "execution_count": 1,
      "outputs": []
    },
    {
      "cell_type": "code",
      "metadata": {
        "id": "p6LmXI8fPwlM"
      },
      "source": [
        " #ref https://www.kaggle.com/mikalaichaly/compare-different-scalers-on-data-with-outliers"
      ],
      "execution_count": 14,
      "outputs": []
    },
    {
      "cell_type": "code",
      "metadata": {
        "id": "WyG5R4ob43lz"
      },
      "source": [
        "def download_stock_data(stock):\r\n",
        "    url = \"https://query1.finance.yahoo.com/v7/finance/download/\"+stock+\".BO?period1=1577110559&period2=1608732959&interval=1d&events=history&includeAdjustedClose=true\"\r\n",
        "    r = requests.get(url)\r\n",
        "    open(stock+'.csv','wb').write(r.content)  "
      ],
      "execution_count": 2,
      "outputs": []
    },
    {
      "cell_type": "code",
      "metadata": {
        "id": "Sjzp6WIX47Bd"
      },
      "source": [
        "index = ['RELIANCE','INFY','HCLTECH','TCS','BAJAJ-AUTO',\r\n",
        "         'TITAN','LT','NESTLEIND','TECHM','ASIANPAINT',\r\n",
        "         'M&M','ICICIBANK','POWERGRID','HINDUNILVR','SUNPHARMA',\r\n",
        "         'TATASTEEL','AXISBANK','SBIN','ULTRACEMCO','BAJAJFINSV',\r\n",
        "        'ITC','NTPC','BAJFINANCE','BHARTIARTL','MARUTI',\r\n",
        "         'KOTAKBANK','HDFC','HDFCBANK','ONGC','INDUSINDBK']"
      ],
      "execution_count": 3,
      "outputs": []
    },
    {
      "cell_type": "code",
      "metadata": {
        "id": "0inij7wn5Aoe"
      },
      "source": [
        "a=1\r\n",
        "for i in index:\r\n",
        "    download_stock_data(i)\r\n",
        "    print(a)\r\n",
        "    a+=1"
      ],
      "execution_count": null,
      "outputs": []
    },
    {
      "cell_type": "code",
      "metadata": {
        "id": "VW1TrNh77Thw"
      },
      "source": [
        "a = pd.read_csv(r'/content/ASIANPAINT.csv',date_parser='Date')"
      ],
      "execution_count": 5,
      "outputs": []
    },
    {
      "cell_type": "code",
      "metadata": {
        "id": "1Eothora8IB3"
      },
      "source": [
        "ac = a['Close']"
      ],
      "execution_count": null,
      "outputs": []
    },
    {
      "cell_type": "code",
      "metadata": {
        "id": "Du47VOCc7uNY"
      },
      "source": [
        "ac = np.array(ac)\r\n",
        "print(ac)"
      ],
      "execution_count": null,
      "outputs": []
    },
    {
      "cell_type": "code",
      "metadata": {
        "id": "aihKSraA7iVD"
      },
      "source": [
        "print(a[220:230])"
      ],
      "execution_count": null,
      "outputs": []
    },
    {
      "cell_type": "code",
      "metadata": {
        "id": "B5CH0gRaL-_-"
      },
      "source": [
        "def remove_nan(ac):\r\n",
        "    array1 = np.array(ac)\r\n",
        "    nan_array = np.isnan(array1)\r\n",
        "    not_nan_array = ~ nan_array\r\n",
        "    ac = array1[not_nan_array]\r\n",
        "    return ac"
      ],
      "execution_count": 9,
      "outputs": []
    },
    {
      "cell_type": "code",
      "metadata": {
        "id": "XpkyEyWWM4iy"
      },
      "source": [
        "ac = remove_nan(ac)\r\n",
        "print(ac)"
      ],
      "execution_count": null,
      "outputs": []
    },
    {
      "cell_type": "code",
      "metadata": {
        "id": "4BsE6Bt-O-LN"
      },
      "source": [
        "col = ac.reshape(-1, 1)\r\n",
        "print(col)"
      ],
      "execution_count": null,
      "outputs": []
    },
    {
      "cell_type": "code",
      "metadata": {
        "colab": {
          "base_uri": "https://localhost:8080/",
          "height": 299
        },
        "id": "9qixNL0dNhIj",
        "outputId": "79bf213e-801e-4aad-9a51-c4eed31d6c55"
      },
      "source": [
        "df = pd.DataFrame(ac)\r\n",
        "scalers = [\r\n",
        "    #('Unscaled data', X),\r\n",
        "    ('Standard Scaling', StandardScaler()),\r\n",
        "    ('Min-Max Scaling', MinMaxScaler()),\r\n",
        "    ('Max-abs Sscaling', MaxAbsScaler()),\r\n",
        "    ('Robust Scaling', RobustScaler(quantile_range=(25, 75))),\r\n",
        "    ('Quantile Transformation (uniform pdf)', QuantileTransformer(output_distribution='uniform')),\r\n",
        "    ('Quantile Transformation (gaussian pdf)', QuantileTransformer(output_distribution='normal')),\r\n",
        "    ('Sample-Wise L2 Normalizing', Normalizer())\r\n",
        "]\r\n",
        "\r\n",
        "for scaler in scalers:\r\n",
        "    df[scaler[0]] = scaler[1].fit_transform(col)\r\n",
        "df.rename(columns={0: \"Close\"},inplace = True)    \r\n",
        "df.head()    "
      ],
      "execution_count": 12,
      "outputs": [
        {
          "output_type": "stream",
          "text": [
            "/usr/local/lib/python3.6/dist-packages/sklearn/preprocessing/_data.py:2357: UserWarning: n_quantiles (1000) is greater than the total number of samples (251). n_quantiles is set to n_samples.\n",
            "  % (self.n_quantiles, n_samples))\n",
            "/usr/local/lib/python3.6/dist-packages/sklearn/preprocessing/_data.py:2357: UserWarning: n_quantiles (1000) is greater than the total number of samples (251). n_quantiles is set to n_samples.\n",
            "  % (self.n_quantiles, n_samples))\n"
          ],
          "name": "stderr"
        },
        {
          "output_type": "execute_result",
          "data": {
            "text/html": [
              "<div>\n",
              "<style scoped>\n",
              "    .dataframe tbody tr th:only-of-type {\n",
              "        vertical-align: middle;\n",
              "    }\n",
              "\n",
              "    .dataframe tbody tr th {\n",
              "        vertical-align: top;\n",
              "    }\n",
              "\n",
              "    .dataframe thead th {\n",
              "        text-align: right;\n",
              "    }\n",
              "</style>\n",
              "<table border=\"1\" class=\"dataframe\">\n",
              "  <thead>\n",
              "    <tr style=\"text-align: right;\">\n",
              "      <th></th>\n",
              "      <th>Close</th>\n",
              "      <th>Standard Scaling</th>\n",
              "      <th>Min-Max Scaling</th>\n",
              "      <th>Max-abs Sscaling</th>\n",
              "      <th>Robust Scaling</th>\n",
              "      <th>Quantile Transformation (uniform pdf)</th>\n",
              "      <th>Quantile Transformation (gaussian pdf)</th>\n",
              "      <th>Sample-Wise L2 Normalizing</th>\n",
              "    </tr>\n",
              "  </thead>\n",
              "  <tbody>\n",
              "    <tr>\n",
              "      <th>0</th>\n",
              "      <td>1807.449951</td>\n",
              "      <td>-0.280326</td>\n",
              "      <td>0.269843</td>\n",
              "      <td>0.683928</td>\n",
              "      <td>-0.009107</td>\n",
              "      <td>0.492</td>\n",
              "      <td>-0.020054</td>\n",
              "      <td>1.0</td>\n",
              "    </tr>\n",
              "    <tr>\n",
              "      <th>1</th>\n",
              "      <td>1803.400024</td>\n",
              "      <td>-0.296723</td>\n",
              "      <td>0.266302</td>\n",
              "      <td>0.682395</td>\n",
              "      <td>-0.022278</td>\n",
              "      <td>0.476</td>\n",
              "      <td>-0.060195</td>\n",
              "      <td>1.0</td>\n",
              "    </tr>\n",
              "    <tr>\n",
              "      <th>2</th>\n",
              "      <td>1810.099976</td>\n",
              "      <td>-0.269596</td>\n",
              "      <td>0.272159</td>\n",
              "      <td>0.684930</td>\n",
              "      <td>-0.000488</td>\n",
              "      <td>0.496</td>\n",
              "      <td>-0.010027</td>\n",
              "      <td>1.0</td>\n",
              "    </tr>\n",
              "    <tr>\n",
              "      <th>3</th>\n",
              "      <td>1812.949951</td>\n",
              "      <td>-0.258057</td>\n",
              "      <td>0.274650</td>\n",
              "      <td>0.686009</td>\n",
              "      <td>0.008781</td>\n",
              "      <td>0.508</td>\n",
              "      <td>0.020054</td>\n",
              "      <td>1.0</td>\n",
              "    </tr>\n",
              "    <tr>\n",
              "      <th>4</th>\n",
              "      <td>1802.400024</td>\n",
              "      <td>-0.300772</td>\n",
              "      <td>0.265428</td>\n",
              "      <td>0.682017</td>\n",
              "      <td>-0.025530</td>\n",
              "      <td>0.472</td>\n",
              "      <td>-0.070243</td>\n",
              "      <td>1.0</td>\n",
              "    </tr>\n",
              "  </tbody>\n",
              "</table>\n",
              "</div>"
            ],
            "text/plain": [
              "         Close  ...  Sample-Wise L2 Normalizing\n",
              "0  1807.449951  ...                         1.0\n",
              "1  1803.400024  ...                         1.0\n",
              "2  1810.099976  ...                         1.0\n",
              "3  1812.949951  ...                         1.0\n",
              "4  1802.400024  ...                         1.0\n",
              "\n",
              "[5 rows x 8 columns]"
            ]
          },
          "metadata": {
            "tags": []
          },
          "execution_count": 12
        }
      ]
    },
    {
      "cell_type": "code",
      "metadata": {
        "id": "CuylxvkBygzA"
      },
      "source": [
        "sns.heatmap(df.corr(), annot = True)"
      ],
      "execution_count": null,
      "outputs": []
    },
    {
      "cell_type": "code",
      "metadata": {
        "id": "QKAT9h0oz8Hj"
      },
      "source": [
        "df['Sample-Wise L2 Normalizing'].unique()"
      ],
      "execution_count": null,
      "outputs": []
    },
    {
      "cell_type": "code",
      "metadata": {
        "id": "in8fQZrszWyE"
      },
      "source": [
        "s = np.array(df['Standard Scaling'])\r\n",
        "mm = np.array(df['Min-Max Scaling'])\r\n",
        "ma = np.array(df['Max-abs Sscaling'])\r\n",
        "r = np.array(df['Robust Scaling'])\r\n",
        "q = np.array(df['Quantile Transformation (uniform pdf)'])\r\n",
        "g = np.array(df['Quantile Transformation (gaussian pdf)'])"
      ],
      "execution_count": 18,
      "outputs": []
    },
    {
      "cell_type": "code",
      "metadata": {
        "id": "eUhKsTCp0XLu"
      },
      "source": [
        "def pn(i):\r\n",
        "    s = np.array(df[i])\r\n",
        "    print(s[0],' to ',s[len(s)-1])\r\n"
      ],
      "execution_count": 25,
      "outputs": []
    },
    {
      "cell_type": "code",
      "metadata": {
        "id": "3MkAx30U0Aqr",
        "outputId": "4ea07062-91d1-4f6a-97df-a7cf384a1daf",
        "colab": {
          "base_uri": "https://localhost:8080/"
        }
      },
      "source": [
        "for i in df.columns:\r\n",
        "    print(i,'\\t')\r\n",
        "    pn(i)\r\n",
        "    print('\\n')"
      ],
      "execution_count": 50,
      "outputs": [
        {
          "output_type": "stream",
          "text": [
            "Close \t\n",
            "1807.449951  to  2642.75\n",
            "\n",
            "\n",
            "Standard Scaling \t\n",
            "-0.28032561485101265  to  3.101677009060396\n",
            "\n",
            "\n",
            "Min-Max Scaling \t\n",
            "0.26984261451048974  to  1.0\n",
            "\n",
            "\n",
            "Max-abs Sscaling \t\n",
            "0.683927708258443  to  1.0\n",
            "\n",
            "\n",
            "Robust Scaling \t\n",
            "-0.009106589698705328  to  2.707536876737634\n",
            "\n",
            "\n",
            "Quantile Transformation (uniform pdf) \t\n",
            "0.492  to  1.0\n",
            "\n",
            "\n",
            "Quantile Transformation (gaussian pdf) \t\n",
            "-0.020054370352950636  to  5.19933758270342\n",
            "\n",
            "\n",
            "Sample-Wise L2 Normalizing \t\n",
            "1.0  to  1.0\n",
            "\n",
            "\n"
          ],
          "name": "stdout"
        }
      ]
    },
    {
      "cell_type": "code",
      "metadata": {
        "id": "R1zdHjil-FXr"
      },
      "source": [
        "fig, (ax1, ax2, ax3, ax4, ax5, ax6) = plt.subplots(6)\r\n",
        "fig.suptitle('Correlations')\r\n",
        "ax1.plot(df['Close'], df['Standard Scaling'])\r\n",
        "ax2.plot(df['Close'], df['Min-Max Scaling'])\r\n",
        "ax3.plot(df['Close'], df['Max-abs Sscaling'])\r\n",
        "ax4.plot(df['Close'], df['Robust Scaling'])\r\n",
        "ax5.plot(df['Close'], df['Quantile Transformation (uniform pdf)'])\r\n",
        "ax6.plot(df['Close'], df['Quantile Transformation (gaussian pdf)'])"
      ],
      "execution_count": null,
      "outputs": []
    },
    {
      "cell_type": "code",
      "metadata": {
        "id": "uLAdIVoyApsB"
      },
      "source": [
        "plt.plot(df['Close'], df['Standard Scaling'])"
      ],
      "execution_count": null,
      "outputs": []
    },
    {
      "cell_type": "code",
      "metadata": {
        "id": "najMyFpXAxfw"
      },
      "source": [
        "plt.plot(df['Close'], df['Min-Max Scaling'])"
      ],
      "execution_count": null,
      "outputs": []
    },
    {
      "cell_type": "code",
      "metadata": {
        "id": "AlVpkD7vA78i"
      },
      "source": [
        "plt.plot(df['Close'], df['Max-abs Sscaling'])"
      ],
      "execution_count": null,
      "outputs": []
    },
    {
      "cell_type": "code",
      "metadata": {
        "id": "2jiwxNT_BDQ8"
      },
      "source": [
        "plt.plot(df['Close'], df['Robust Scaling'])"
      ],
      "execution_count": null,
      "outputs": []
    },
    {
      "cell_type": "code",
      "metadata": {
        "id": "N5OaKFiJBHPI"
      },
      "source": [
        "plt.plot(df['Close'], df['Quantile Transformation (uniform pdf)'])"
      ],
      "execution_count": null,
      "outputs": []
    },
    {
      "cell_type": "code",
      "metadata": {
        "id": "a4pSjiX-BLcp"
      },
      "source": [
        "plt.plot(df['Close'], df['Quantile Transformation (gaussian pdf)'])"
      ],
      "execution_count": null,
      "outputs": []
    },
    {
      "cell_type": "code",
      "metadata": {
        "id": "CY65T58JBurN"
      },
      "source": [
        "plt.plot(df['Quantile Transformation (gaussian pdf)'])#indicator"
      ],
      "execution_count": null,
      "outputs": []
    },
    {
      "cell_type": "code",
      "metadata": {
        "id": "Umk7dmdFBP-D"
      },
      "source": [
        "plt.plot(df['Close'])"
      ],
      "execution_count": null,
      "outputs": []
    },
    {
      "cell_type": "code",
      "metadata": {
        "id": "tdiU2BStB4qU"
      },
      "source": [
        "plt.plot(df['Quantile Transformation (uniform pdf)'])#indicator"
      ],
      "execution_count": null,
      "outputs": []
    },
    {
      "cell_type": "code",
      "metadata": {
        "id": "_YYnjFUhCQi0",
        "outputId": "e2e7c1ae-755a-438e-e00d-4e607c54dae7",
        "colab": {
          "base_uri": "https://localhost:8080/",
          "height": 77
        }
      },
      "source": [
        "r = pd.read_csv(r'/content/RELIANCE.csv',date_parser='Date')\r\n",
        "r.head(1)"
      ],
      "execution_count": 47,
      "outputs": [
        {
          "output_type": "execute_result",
          "data": {
            "text/html": [
              "<div>\n",
              "<style scoped>\n",
              "    .dataframe tbody tr th:only-of-type {\n",
              "        vertical-align: middle;\n",
              "    }\n",
              "\n",
              "    .dataframe tbody tr th {\n",
              "        vertical-align: top;\n",
              "    }\n",
              "\n",
              "    .dataframe thead th {\n",
              "        text-align: right;\n",
              "    }\n",
              "</style>\n",
              "<table border=\"1\" class=\"dataframe\">\n",
              "  <thead>\n",
              "    <tr style=\"text-align: right;\">\n",
              "      <th></th>\n",
              "      <th>Date</th>\n",
              "      <th>Open</th>\n",
              "      <th>High</th>\n",
              "      <th>Low</th>\n",
              "      <th>Close</th>\n",
              "      <th>Adj Close</th>\n",
              "      <th>Volume</th>\n",
              "    </tr>\n",
              "  </thead>\n",
              "  <tbody>\n",
              "    <tr>\n",
              "      <th>0</th>\n",
              "      <td>2019-12-23</td>\n",
              "      <td>1555.0</td>\n",
              "      <td>1577.0</td>\n",
              "      <td>1555.0</td>\n",
              "      <td>1571.0</td>\n",
              "      <td>1565.124268</td>\n",
              "      <td>1274110.0</td>\n",
              "    </tr>\n",
              "  </tbody>\n",
              "</table>\n",
              "</div>"
            ],
            "text/plain": [
              "         Date    Open    High     Low   Close    Adj Close     Volume\n",
              "0  2019-12-23  1555.0  1577.0  1555.0  1571.0  1565.124268  1274110.0"
            ]
          },
          "metadata": {
            "tags": []
          },
          "execution_count": 47
        }
      ]
    },
    {
      "cell_type": "code",
      "metadata": {
        "id": "NxDM3wQQDu0s",
        "outputId": "c6d8b8ca-72fe-40c5-db39-96cc0674f256",
        "colab": {
          "base_uri": "https://localhost:8080/"
        }
      },
      "source": [
        "rc = r['Close']\r\n",
        "rc = np.array(rc)\r\n",
        "print(rc)"
      ],
      "execution_count": 49,
      "outputs": [
        {
          "output_type": "stream",
          "text": [
            "[1571.       1545.949951 1515.949951 1542.150024 1544.199951 1514.099976\n",
            " 1509.699951 1535.349976 1537.25     1501.5      1525.050049 1513.949951\n",
            " 1547.949951 1547.699951 1543.449951 1529.050049 1524.       1537.699951\n",
            " 1580.650024 1532.       1533.949951 1533.099976 1527.       1521.699951\n",
            " 1506.599976 1471.349976 1479.699951 1442.5      1411.699951 1385.849976\n",
            " 1425.849976 1448.050049 1457.650024 1433.75     1436.75     1452.599976\n",
            " 1470.       1473.949951 1486.650024 1478.400024 1466.099976 1504.199951\n",
            " 1485.5      1444.849976 1416.300049 1391.400024 1385.800049 1328.650024\n",
            " 1314.849976 1343.650024 1339.150024 1311.5      1270.050049 1270.050049\n",
            " 1153.25     1061.599976 1106.900024 1015.25     1008.900024  968.849976\n",
            "  917.099976 1020.200012  883.849976  943.099976 1081.25     1074.75\n",
            " 1065.5      1032.349976 1112.449951 1080.650024 1078.199951 1206.400024\n",
            " 1192.150024 1219.199951 1189.25     1150.050049 1168.699951 1225.050049\n",
            " 1244.449951 1236.050049 1363.349976 1371.5      1417.349976 1430.300049\n",
            " 1428.099976 1426.199951 1453.219971 1421.869995 1447.22998  1447.869995\n",
            " 1493.040039 1547.079956 1561.890015 1466.300049 1496.400024 1435.449951\n",
            " 1458.900024 1440.650024 1408.150024 1434.650024 1440.050049 1431.599976\n",
            " 1423.699951 1446.949951 1472.650024 1465.199951 1520.449951 1536.099976\n",
            " 1542.449951 1579.949951 1580.599976 1570.050049 1537.099976 1572.\n",
            " 1537.5      1588.800049 1615.       1617.5      1615.400024 1656.25\n",
            " 1759.5      1747.199951 1720.050049 1727.349976 1717.949951 1742.599976\n",
            " 1723.150024 1703.349976 1737.900024 1760.550049 1787.5      1851.400024\n",
            " 1823.949951 1797.349976 1824.599976 1878.5      1934.300049 1916.650024\n",
            " 1845.599976 1843.099976 1911.349976 1919.300049 1971.849976 2004.099976\n",
            " 2060.649902 2146.199951 2155.850098 2177.449951 2095.850098 2108.649902\n",
            " 2066.949951 2008.449951 2151.149902 2126.649902 2134.550049 2146.699951\n",
            " 2119.600098 2134.050049 2127.600098 2122.300049 2114.100098 2091.449951\n",
            " 2118.75     2133.199951 2096.350098 2081.75     2096.050049 2082.\n",
            " 2136.850098 2111.699951 2115.600098 2078.550049 2087.550049 2128.600098\n",
            " 2112.149902 2077.399902 2082.399902 2107.050049 2161.25     2314.649902\n",
            " 2318.850098 2302.350098 2317.899902 2323.850098 2299.350098 2305.5\n",
            " 2255.149902 2211.149902 2229.550049 2181.149902 2201.699951 2215.75\n",
            " 2244.850098 2233.75     2225.050049 2211.149902 2210.149902 2257.149902\n",
            " 2238.899902 2233.699951 2236.600098 2280.25     2287.350098 2205.550049\n",
            " 2175.5      2175.800049 2155.5      2123.25     2107.100098 2112.550049\n",
            " 2028.699951 2034.199951 2010.699951 2026.550049 2054.350098 1877.300049\n",
            " 1849.449951 1913.449951 1955.099976 2029.       2050.300049 2084.5\n",
            " 1996.900024 1979.849976 1996.099976         nan 1992.900024 1987.199951\n",
            " 1972.650024 1899.199951 1950.800049 1965.099976 1947.75     1953.800049\n",
            " 1929.849976 1954.300049 1957.599976 1963.449951 1946.550049 1958.050049\n",
            " 1993.75     2026.650024 2007.199951 2005.599976 1991.150024 1974.\n",
            " 1976.050049 1985.050049 1992.25     1939.75     1936.599976 1943.800049]\n"
          ],
          "name": "stdout"
        }
      ]
    },
    {
      "cell_type": "code",
      "metadata": {
        "id": "5nlky_WoEDCi",
        "outputId": "51d40bfd-be85-41d2-a6f6-277c6e20461d",
        "colab": {
          "base_uri": "https://localhost:8080/"
        }
      },
      "source": [
        "rc = remove_nan(rc)\r\n",
        "print(rc)"
      ],
      "execution_count": 51,
      "outputs": [
        {
          "output_type": "stream",
          "text": [
            "[1571.       1545.949951 1515.949951 1542.150024 1544.199951 1514.099976\n",
            " 1509.699951 1535.349976 1537.25     1501.5      1525.050049 1513.949951\n",
            " 1547.949951 1547.699951 1543.449951 1529.050049 1524.       1537.699951\n",
            " 1580.650024 1532.       1533.949951 1533.099976 1527.       1521.699951\n",
            " 1506.599976 1471.349976 1479.699951 1442.5      1411.699951 1385.849976\n",
            " 1425.849976 1448.050049 1457.650024 1433.75     1436.75     1452.599976\n",
            " 1470.       1473.949951 1486.650024 1478.400024 1466.099976 1504.199951\n",
            " 1485.5      1444.849976 1416.300049 1391.400024 1385.800049 1328.650024\n",
            " 1314.849976 1343.650024 1339.150024 1311.5      1270.050049 1270.050049\n",
            " 1153.25     1061.599976 1106.900024 1015.25     1008.900024  968.849976\n",
            "  917.099976 1020.200012  883.849976  943.099976 1081.25     1074.75\n",
            " 1065.5      1032.349976 1112.449951 1080.650024 1078.199951 1206.400024\n",
            " 1192.150024 1219.199951 1189.25     1150.050049 1168.699951 1225.050049\n",
            " 1244.449951 1236.050049 1363.349976 1371.5      1417.349976 1430.300049\n",
            " 1428.099976 1426.199951 1453.219971 1421.869995 1447.22998  1447.869995\n",
            " 1493.040039 1547.079956 1561.890015 1466.300049 1496.400024 1435.449951\n",
            " 1458.900024 1440.650024 1408.150024 1434.650024 1440.050049 1431.599976\n",
            " 1423.699951 1446.949951 1472.650024 1465.199951 1520.449951 1536.099976\n",
            " 1542.449951 1579.949951 1580.599976 1570.050049 1537.099976 1572.\n",
            " 1537.5      1588.800049 1615.       1617.5      1615.400024 1656.25\n",
            " 1759.5      1747.199951 1720.050049 1727.349976 1717.949951 1742.599976\n",
            " 1723.150024 1703.349976 1737.900024 1760.550049 1787.5      1851.400024\n",
            " 1823.949951 1797.349976 1824.599976 1878.5      1934.300049 1916.650024\n",
            " 1845.599976 1843.099976 1911.349976 1919.300049 1971.849976 2004.099976\n",
            " 2060.649902 2146.199951 2155.850098 2177.449951 2095.850098 2108.649902\n",
            " 2066.949951 2008.449951 2151.149902 2126.649902 2134.550049 2146.699951\n",
            " 2119.600098 2134.050049 2127.600098 2122.300049 2114.100098 2091.449951\n",
            " 2118.75     2133.199951 2096.350098 2081.75     2096.050049 2082.\n",
            " 2136.850098 2111.699951 2115.600098 2078.550049 2087.550049 2128.600098\n",
            " 2112.149902 2077.399902 2082.399902 2107.050049 2161.25     2314.649902\n",
            " 2318.850098 2302.350098 2317.899902 2323.850098 2299.350098 2305.5\n",
            " 2255.149902 2211.149902 2229.550049 2181.149902 2201.699951 2215.75\n",
            " 2244.850098 2233.75     2225.050049 2211.149902 2210.149902 2257.149902\n",
            " 2238.899902 2233.699951 2236.600098 2280.25     2287.350098 2205.550049\n",
            " 2175.5      2175.800049 2155.5      2123.25     2107.100098 2112.550049\n",
            " 2028.699951 2034.199951 2010.699951 2026.550049 2054.350098 1877.300049\n",
            " 1849.449951 1913.449951 1955.099976 2029.       2050.300049 2084.5\n",
            " 1996.900024 1979.849976 1996.099976 1992.900024 1987.199951 1972.650024\n",
            " 1899.199951 1950.800049 1965.099976 1947.75     1953.800049 1929.849976\n",
            " 1954.300049 1957.599976 1963.449951 1946.550049 1958.050049 1993.75\n",
            " 2026.650024 2007.199951 2005.599976 1991.150024 1974.       1976.050049\n",
            " 1985.050049 1992.25     1939.75     1936.599976 1943.800049]\n"
          ],
          "name": "stdout"
        }
      ]
    },
    {
      "cell_type": "code",
      "metadata": {
        "id": "-8vQnsJ5ETDB"
      },
      "source": [
        ""
      ],
      "execution_count": null,
      "outputs": []
    }
  ]
}